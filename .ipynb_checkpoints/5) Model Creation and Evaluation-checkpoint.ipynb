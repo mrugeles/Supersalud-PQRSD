{
 "cells": [
  {
   "cell_type": "code",
   "execution_count": 1,
   "metadata": {
    "scrolled": true
   },
   "outputs": [
    {
     "name": "stdout",
     "output_type": "stream",
     "text": [
      "{u'test_size': 0.1, u'seed': 194.0, u'impute': 0.0}\n"
     ]
    },
    {
     "data": {
      "text/html": [
       "<div>\n",
       "<style scoped>\n",
       "    .dataframe tbody tr th:only-of-type {\n",
       "        vertical-align: middle;\n",
       "    }\n",
       "\n",
       "    .dataframe tbody tr th {\n",
       "        vertical-align: top;\n",
       "    }\n",
       "\n",
       "    .dataframe thead th {\n",
       "        text-align: right;\n",
       "    }\n",
       "</style>\n",
       "<table border=\"1\" class=\"dataframe\">\n",
       "  <thead>\n",
       "    <tr style=\"text-align: right;\">\n",
       "      <th></th>\n",
       "      <th>AFEC_DPTO</th>\n",
       "      <th>AFEC_EDADR</th>\n",
       "      <th>AFEC_EDUC</th>\n",
       "      <th>AFEC_GENERO</th>\n",
       "      <th>AFEC_GETNICO</th>\n",
       "      <th>AFEC_MPIO</th>\n",
       "      <th>AFEC_PARENTESCO</th>\n",
       "      <th>AFEC_POBESPECIAL</th>\n",
       "      <th>AFEC_REGAFILIACION</th>\n",
       "      <th>AFEC_TIPOPER</th>\n",
       "      <th>...</th>\n",
       "      <th>PATOLOGIA_TIPO</th>\n",
       "      <th>PET_COD_DEPTO</th>\n",
       "      <th>PET_MPIO</th>\n",
       "      <th>PET_TIPOPER</th>\n",
       "      <th>PQR_CANAL</th>\n",
       "      <th>PQR_CLASE_SNS</th>\n",
       "      <th>PQR_TIPOATENCION</th>\n",
       "      <th>PQR_TIPOPETICION</th>\n",
       "      <th>TRIM</th>\n",
       "      <th>RIESGO_VIDA</th>\n",
       "    </tr>\n",
       "  </thead>\n",
       "  <tbody>\n",
       "    <tr>\n",
       "      <th>0</th>\n",
       "      <td>0.413632</td>\n",
       "      <td>0.457947</td>\n",
       "      <td>0.404291</td>\n",
       "      <td>0.422006</td>\n",
       "      <td>0.43569</td>\n",
       "      <td>0.411426</td>\n",
       "      <td>0.498799</td>\n",
       "      <td>0.425020</td>\n",
       "      <td>0.488333</td>\n",
       "      <td>0.436371</td>\n",
       "      <td>...</td>\n",
       "      <td>0.388499</td>\n",
       "      <td>0.416195</td>\n",
       "      <td>0.420014</td>\n",
       "      <td>0.271184</td>\n",
       "      <td>0.168226</td>\n",
       "      <td>0.457652</td>\n",
       "      <td>0.266635</td>\n",
       "      <td>0.456139</td>\n",
       "      <td>0.4024</td>\n",
       "      <td>0</td>\n",
       "    </tr>\n",
       "    <tr>\n",
       "      <th>1</th>\n",
       "      <td>0.367341</td>\n",
       "      <td>0.457947</td>\n",
       "      <td>0.447575</td>\n",
       "      <td>0.455866</td>\n",
       "      <td>0.43569</td>\n",
       "      <td>0.371084</td>\n",
       "      <td>0.459542</td>\n",
       "      <td>0.425020</td>\n",
       "      <td>0.420733</td>\n",
       "      <td>0.436371</td>\n",
       "      <td>...</td>\n",
       "      <td>0.388499</td>\n",
       "      <td>0.375220</td>\n",
       "      <td>0.366720</td>\n",
       "      <td>0.433927</td>\n",
       "      <td>0.281359</td>\n",
       "      <td>0.457652</td>\n",
       "      <td>0.459141</td>\n",
       "      <td>0.456139</td>\n",
       "      <td>0.4024</td>\n",
       "      <td>0</td>\n",
       "    </tr>\n",
       "    <tr>\n",
       "      <th>2</th>\n",
       "      <td>0.557791</td>\n",
       "      <td>0.457947</td>\n",
       "      <td>0.488072</td>\n",
       "      <td>0.455866</td>\n",
       "      <td>0.43569</td>\n",
       "      <td>0.564257</td>\n",
       "      <td>0.532725</td>\n",
       "      <td>0.425020</td>\n",
       "      <td>0.420733</td>\n",
       "      <td>0.436371</td>\n",
       "      <td>...</td>\n",
       "      <td>0.388499</td>\n",
       "      <td>0.549517</td>\n",
       "      <td>0.558897</td>\n",
       "      <td>0.433927</td>\n",
       "      <td>0.616036</td>\n",
       "      <td>0.457652</td>\n",
       "      <td>0.459141</td>\n",
       "      <td>0.456139</td>\n",
       "      <td>0.4024</td>\n",
       "      <td>0</td>\n",
       "    </tr>\n",
       "    <tr>\n",
       "      <th>3</th>\n",
       "      <td>0.409106</td>\n",
       "      <td>0.457947</td>\n",
       "      <td>0.404291</td>\n",
       "      <td>0.455866</td>\n",
       "      <td>0.43569</td>\n",
       "      <td>0.445723</td>\n",
       "      <td>0.532725</td>\n",
       "      <td>0.526102</td>\n",
       "      <td>0.420733</td>\n",
       "      <td>0.436371</td>\n",
       "      <td>...</td>\n",
       "      <td>0.450952</td>\n",
       "      <td>0.407647</td>\n",
       "      <td>0.447220</td>\n",
       "      <td>0.433927</td>\n",
       "      <td>0.616036</td>\n",
       "      <td>0.457652</td>\n",
       "      <td>0.459141</td>\n",
       "      <td>0.456139</td>\n",
       "      <td>0.4024</td>\n",
       "      <td>1</td>\n",
       "    </tr>\n",
       "    <tr>\n",
       "      <th>4</th>\n",
       "      <td>0.413632</td>\n",
       "      <td>0.457947</td>\n",
       "      <td>0.404291</td>\n",
       "      <td>0.455866</td>\n",
       "      <td>0.43569</td>\n",
       "      <td>0.411426</td>\n",
       "      <td>0.498799</td>\n",
       "      <td>0.425020</td>\n",
       "      <td>0.488333</td>\n",
       "      <td>0.436371</td>\n",
       "      <td>...</td>\n",
       "      <td>0.388499</td>\n",
       "      <td>0.416195</td>\n",
       "      <td>0.420014</td>\n",
       "      <td>0.271184</td>\n",
       "      <td>0.168226</td>\n",
       "      <td>0.457652</td>\n",
       "      <td>0.266635</td>\n",
       "      <td>0.456139</td>\n",
       "      <td>0.4024</td>\n",
       "      <td>0</td>\n",
       "    </tr>\n",
       "  </tbody>\n",
       "</table>\n",
       "<p>5 rows × 36 columns</p>\n",
       "</div>"
      ],
      "text/plain": [
       "   AFEC_DPTO  AFEC_EDADR  AFEC_EDUC  AFEC_GENERO  AFEC_GETNICO  AFEC_MPIO  \\\n",
       "0  0.413632   0.457947    0.404291   0.422006     0.43569       0.411426    \n",
       "1  0.367341   0.457947    0.447575   0.455866     0.43569       0.371084    \n",
       "2  0.557791   0.457947    0.488072   0.455866     0.43569       0.564257    \n",
       "3  0.409106   0.457947    0.404291   0.455866     0.43569       0.445723    \n",
       "4  0.413632   0.457947    0.404291   0.455866     0.43569       0.411426    \n",
       "\n",
       "   AFEC_PARENTESCO  AFEC_POBESPECIAL  AFEC_REGAFILIACION  AFEC_TIPOPER  \\\n",
       "0  0.498799         0.425020          0.488333            0.436371       \n",
       "1  0.459542         0.425020          0.420733            0.436371       \n",
       "2  0.532725         0.425020          0.420733            0.436371       \n",
       "3  0.532725         0.526102          0.420733            0.436371       \n",
       "4  0.498799         0.425020          0.488333            0.436371       \n",
       "\n",
       "      ...       PATOLOGIA_TIPO  PET_COD_DEPTO  PET_MPIO  PET_TIPOPER  \\\n",
       "0     ...       0.388499        0.416195       0.420014  0.271184      \n",
       "1     ...       0.388499        0.375220       0.366720  0.433927      \n",
       "2     ...       0.388499        0.549517       0.558897  0.433927      \n",
       "3     ...       0.450952        0.407647       0.447220  0.433927      \n",
       "4     ...       0.388499        0.416195       0.420014  0.271184      \n",
       "\n",
       "   PQR_CANAL  PQR_CLASE_SNS  PQR_TIPOATENCION  PQR_TIPOPETICION    TRIM  \\\n",
       "0  0.168226   0.457652       0.266635          0.456139          0.4024   \n",
       "1  0.281359   0.457652       0.459141          0.456139          0.4024   \n",
       "2  0.616036   0.457652       0.459141          0.456139          0.4024   \n",
       "3  0.616036   0.457652       0.459141          0.456139          0.4024   \n",
       "4  0.168226   0.457652       0.266635          0.456139          0.4024   \n",
       "\n",
       "   RIESGO_VIDA  \n",
       "0  0            \n",
       "1  0            \n",
       "2  0            \n",
       "3  1            \n",
       "4  0            \n",
       "\n",
       "[5 rows x 36 columns]"
      ]
     },
     "metadata": {},
     "output_type": "display_data"
    }
   ],
   "source": [
    "import numpy as np\n",
    "import pandas as pd\n",
    "from time import time\n",
    "import matplotlib.pyplot as plt\n",
    "from IPython.display import display \n",
    "from sklearn.metrics import fbeta_score\n",
    "import model_utils as model_utils\n",
    "from sklearn.externals import joblib\n",
    "\n",
    "import json\n",
    "# Pretty display for notebooks\n",
    "%matplotlib inline\n",
    "pd.set_option('display.max_colwidth', -1)\n",
    "\n",
    "\n",
    "with open('best_config.json') as json_data_file:\n",
    "    config = json.load(json_data_file)[0]\n",
    "print(config)\n",
    "seed = int(config['seed'])\n",
    "test_size = config['test_size']\n",
    "\n",
    "dataset = pd.read_csv(\"datasets/encoded_dataset.csv\")\n",
    "display(dataset.head(n = 5))\n",
    "\n",
    "labels = dataset[['RIESGO_VIDA']]\n",
    "features = dataset.drop(['RIESGO_VIDA'], axis = 1)\n"
   ]
  },
  {
   "cell_type": "code",
   "execution_count": 2,
   "metadata": {},
   "outputs": [
    {
     "name": "stdout",
     "output_type": "stream",
     "text": [
      "features_final set has 281311 samples.\n",
      "Training set has 253179 samples.\n",
      "Testing set has 28132 samples.\n"
     ]
    }
   ],
   "source": [
    "# Import train_test_split\n",
    "from sklearn.model_selection import train_test_split\n",
    "\n",
    "# Split the 'features' and 'labels' data into training and testing sets\n",
    "X_train, X_test, y_train, y_test = train_test_split(features, labels, test_size = test_size, random_state = seed, stratify=labels)\n",
    "\n",
    "# Show the results of the split\n",
    "print \"features_final set has {} samples.\".format(features.shape[0])\n",
    "print \"Training set has {} samples.\".format(X_train.shape[0])\n",
    "print \"Testing set has {} samples.\".format(X_test.shape[0])\n"
   ]
  },
  {
   "cell_type": "code",
   "execution_count": 3,
   "metadata": {},
   "outputs": [
    {
     "name": "stderr",
     "output_type": "stream",
     "text": [
      "/anaconda2/lib/python2.7/site-packages/sklearn/utils/validation.py:752: DataConversionWarning: A column-vector y was passed when a 1d array was expected. Please change the shape of y to (n_samples, ), for example using ravel().\n",
      "  y = column_or_1d(y, warn=True)\n"
     ]
    },
    {
     "name": "stdout",
     "output_type": "stream",
     "text": [
      "GaussianNB trained.\n"
     ]
    },
    {
     "name": "stderr",
     "output_type": "stream",
     "text": [
      "/anaconda2/lib/python2.7/site-packages/sklearn/ensemble/forest.py:248: FutureWarning: The default value of n_estimators will change from 10 in version 0.20 to 100 in 0.22.\n",
      "  \"10 in version 0.20 to 100 in 0.22.\", FutureWarning)\n",
      "model_utils.py:35: DataConversionWarning: A column-vector y was passed when a 1d array was expected. Please change the shape of y to (n_samples,), for example using ravel().\n",
      "  learner = learner.fit(X_train, y_train)\n"
     ]
    },
    {
     "name": "stdout",
     "output_type": "stream",
     "text": [
      "RandomForestClassifier trained.\n",
      "AdaBoostClassifier trained.\n"
     ]
    }
   ],
   "source": [
    "from sklearn.ensemble import AdaBoostClassifier\n",
    "from sklearn.ensemble import RandomForestClassifier\n",
    "from sklearn.naive_bayes import GaussianNB\n",
    "\n",
    "# Initialize the three models\n",
    "clf_A = GaussianNB()\n",
    "clf_B = RandomForestClassifier(random_state = seed)\n",
    "clf_C = AdaBoostClassifier(random_state = seed)\n",
    "\n",
    "\n",
    "# Collect results on the learners\n",
    "dfResults = pd.DataFrame(columns=['learner', 'train_time', 'pred_time', 'f_test', 'f_train'])\n",
    "\n",
    "for k, clf in enumerate([clf_A, clf_B, clf_C]):\n",
    "    clf_name = clf.__class__.__name__  \n",
    "    clf, dfResults = model_utils.train_predict(clf, 1, X_train, y_train, X_test, y_test, dfResults)\n"
   ]
  },
  {
   "cell_type": "code",
   "execution_count": 4,
   "metadata": {
    "scrolled": true
   },
   "outputs": [
    {
     "data": {
      "text/html": [
       "<div>\n",
       "<style scoped>\n",
       "    .dataframe tbody tr th:only-of-type {\n",
       "        vertical-align: middle;\n",
       "    }\n",
       "\n",
       "    .dataframe tbody tr th {\n",
       "        vertical-align: top;\n",
       "    }\n",
       "\n",
       "    .dataframe thead th {\n",
       "        text-align: right;\n",
       "    }\n",
       "</style>\n",
       "<table border=\"1\" class=\"dataframe\">\n",
       "  <thead>\n",
       "    <tr style=\"text-align: right;\">\n",
       "      <th></th>\n",
       "      <th>learner</th>\n",
       "      <th>f_test</th>\n",
       "    </tr>\n",
       "  </thead>\n",
       "  <tbody>\n",
       "    <tr>\n",
       "      <th>1</th>\n",
       "      <td>RandomForestClassifier</td>\n",
       "      <td>0.816954</td>\n",
       "    </tr>\n",
       "    <tr>\n",
       "      <th>2</th>\n",
       "      <td>AdaBoostClassifier</td>\n",
       "      <td>0.796524</td>\n",
       "    </tr>\n",
       "    <tr>\n",
       "      <th>0</th>\n",
       "      <td>GaussianNB</td>\n",
       "      <td>0.655417</td>\n",
       "    </tr>\n",
       "  </tbody>\n",
       "</table>\n",
       "</div>"
      ],
      "text/plain": [
       "                  learner    f_test\n",
       "1  RandomForestClassifier  0.816954\n",
       "2  AdaBoostClassifier      0.796524\n",
       "0  GaussianNB              0.655417"
      ]
     },
     "metadata": {},
     "output_type": "display_data"
    }
   ],
   "source": [
    "display( dfResults.sort_values(by=['f_test'], ascending = False)[['learner', 'f_test']])\n"
   ]
  },
  {
   "cell_type": "markdown",
   "metadata": {},
   "source": [
    "# Tuning Models"
   ]
  },
  {
   "cell_type": "markdown",
   "metadata": {},
   "source": [
    "## Tuning RandomForestClassifier"
   ]
  },
  {
   "cell_type": "code",
   "execution_count": 5,
   "metadata": {
    "scrolled": false
   },
   "outputs": [
    {
     "name": "stderr",
     "output_type": "stream",
     "text": [
      "/anaconda2/lib/python2.7/site-packages/sklearn/model_selection/_split.py:1943: FutureWarning: You should specify a value for 'cv' instead of relying on the default value. The default value will change from 3 to 5 in version 0.22.\n",
      "  warnings.warn(CV_WARNING, FutureWarning)\n"
     ]
    },
    {
     "name": "stdout",
     "output_type": "stream",
     "text": [
      "Unoptimized model\n",
      "------\n",
      "F-score on testing data: 0.8022\n",
      "\n",
      "Optimized Model\n",
      "------\n",
      "Final F-score on the testing data: 0.8547\n"
     ]
    },
    {
     "data": {
      "text/plain": [
       "['rf_classifier.joblib']"
      ]
     },
     "execution_count": 5,
     "metadata": {},
     "output_type": "execute_result"
    },
    {
     "data": {
      "image/png": "[encoded data removed]",
      "text/plain": [
       "<matplotlib.figure.Figure at 0x10bd33310>"
      ]
     },
     "metadata": {},
     "output_type": "display_data"
    }
   ],
   "source": [
    "from sklearn.metrics import make_scorer\n",
    "\n",
    "rf_classifier = RandomForestClassifier(random_state = seed)\n",
    "\n",
    "rfParameters = {    \n",
    "  'criterion':['gini', 'entropy'],\n",
    "  'max_depth':[5, 10, 15, 30],\n",
    "  'max_features':['auto', 'sqrt', 'log2', None],\n",
    "  'class_weight': ['balanced', 'balanced_subsample'], \n",
    "}\n",
    "\n",
    "rf_classifier, default_rf_score, tuned_rf_score, cnf_rf_matrix = model_utils.tune_classifier(rf_classifier, rfParameters, X_train, X_test, y_train, y_test)\n",
    "\n",
    "model_utils.plot_confusion_matrix(cnf_rf_matrix, classes=['Life not as risk', 'Life at risk'], normalize = True)\n",
    "print \"Unoptimized model\\n------\"\n",
    "print \"F-score on testing data: {:.4f}\".format(default_rf_score)\n",
    "print \"\\nOptimized Model\\n------\"\n",
    "print \"Final F-score on the testing data: {:.4f}\".format(tuned_rf_score)\n",
    "joblib.dump(rf_classifier, 'rf_classifier.joblib') \n"
   ]
  },
  {
   "cell_type": "markdown",
   "metadata": {},
   "source": [
    "## Tuning AdaBoostClassifier"
   ]
  },
  {
   "cell_type": "code",
   "execution_count": 6,
   "metadata": {
    "scrolled": false
   },
   "outputs": [
    {
     "name": "stdout",
     "output_type": "stream",
     "text": [
      "Unoptimized model\n",
      "------\n",
      "F-score on testing data: 0.7868\n",
      "\n",
      "Optimized Model\n",
      "------\n",
      "Final F-score on the testing data: 0.7868\n"
     ]
    },
    {
     "data": {
      "text/plain": [
       "['ada_classifier.joblib']"
      ]
     },
     "execution_count": 6,
     "metadata": {},
     "output_type": "execute_result"
    },
    {
     "data": {
      "image/png": "[encoded data removed]",
      "text/plain": [
       "<matplotlib.figure.Figure at 0x10b26c0d0>"
      ]
     },
     "metadata": {},
     "output_type": "display_data"
    }
   ],
   "source": [
    "from sklearn.ensemble import AdaBoostClassifier\n",
    "ada_classifier = AdaBoostClassifier(random_state = seed)\n",
    "\n",
    "adaParameters = {\n",
    "  'learning_rate':[0.1, 0.5, 1],\n",
    "  'algorithm' :['SAMME', 'SAMME.R']\n",
    "}\n",
    "\n",
    "ada_classifier, default_ada_score, tuned_ada_score, cnf_ada_matrix = model_utils.tune_classifier(ada_classifier, adaParameters,  X_train, X_test, y_train, y_test)\n",
    "\n",
    "model_utils.plot_confusion_matrix(cnf_ada_matrix, classes=['Life not as risk', 'Life at risk'], normalize = True)\n",
    "print \"Unoptimized model\\n------\"\n",
    "print \"F-score on testing data: {:.4f}\".format(default_ada_score)\n",
    "print \"\\nOptimized Model\\n------\"\n",
    "print \"Final F-score on the testing data: {:.4f}\".format(tuned_ada_score)\n",
    "\n",
    "joblib.dump(ada_classifier, 'ada_classifier.joblib') \n"
   ]
  },
  {
   "cell_type": "markdown",
   "metadata": {},
   "source": [
    "## Tuning GaussianClassifier\n"
   ]
  },
  {
   "cell_type": "code",
   "execution_count": 7,
   "metadata": {},
   "outputs": [
    {
     "name": "stdout",
     "output_type": "stream",
     "text": [
      "Unoptimized model\n",
      "------\n",
      "F-score on testing data: 0.8109\n",
      "\n",
      "Optimized Model\n",
      "------\n",
      "Final F-score on the testing data: 0.8109\n"
     ]
    },
    {
     "data": {
      "text/plain": [
       "['gauss_classifier.joblib']"
      ]
     },
     "execution_count": 7,
     "metadata": {},
     "output_type": "execute_result"
    },
    {
     "data": {
      "image/png": "[encoded data removed]",
      "text/plain": [
       "<matplotlib.figure.Figure at 0x1063dacd0>"
      ]
     },
     "metadata": {},
     "output_type": "display_data"
    }
   ],
   "source": [
    "gauss_classifier = GaussianNB()\n",
    "\n",
    "gaussParameters = {\n",
    "  'priors':[None],\n",
    "  'var_smoothing' :[1e-09]\n",
    "}\n",
    "\n",
    "gauss_classifier, default_gauss_score, tuned_gauss_score, cnf_gauss_matrix = model_utils.tune_classifier(gauss_classifier, gaussParameters,  X_train, X_test, y_train, y_test)\n",
    "\n",
    "model_utils.plot_confusion_matrix(cnf_gauss_matrix, classes=['Life not as risk', 'Life at risk'], normalize = True)\n",
    "print \"Unoptimized model\\n------\"\n",
    "print \"F-score on testing data: {:.4f}\".format(default_gauss_score)\n",
    "print \"\\nOptimized Model\\n------\"\n",
    "print \"Final F-score on the testing data: {:.4f}\".format(tuned_gauss_score)\n",
    "\n",
    "joblib.dump(gauss_classifier, 'gauss_classifier.joblib') \n"
   ]
  },
  {
   "cell_type": "markdown",
   "metadata": {},
   "source": [
    "# Stacking\n",
    "## Stacking with to best classifiers"
   ]
  },
  {
   "cell_type": "code",
   "execution_count": 8,
   "metadata": {},
   "outputs": [
    {
     "ename": "NameError",
     "evalue": "global name 'StackingClassifier' is not defined",
     "output_type": "error",
     "traceback": [
      "\u001b[0;31m---------------------------------------------------------------------------\u001b[0m",
      "\u001b[0;31mNameError\u001b[0m                                 Traceback (most recent call last)",
      "\u001b[0;32m<ipython-input-8-5e28c1df3f93>\u001b[0m in \u001b[0;36m<module>\u001b[0;34m()\u001b[0m\n\u001b[1;32m      4\u001b[0m \u001b[0;32mfrom\u001b[0m \u001b[0msklearn\u001b[0m\u001b[0;34m.\u001b[0m\u001b[0mmetrics\u001b[0m \u001b[0;32mimport\u001b[0m \u001b[0mfbeta_score\u001b[0m\u001b[0;34m,\u001b[0m \u001b[0mmake_scorer\u001b[0m\u001b[0;34m\u001b[0m\u001b[0m\n\u001b[1;32m      5\u001b[0m \u001b[0;34m\u001b[0m\u001b[0m\n\u001b[0;32m----> 6\u001b[0;31m \u001b[0msclf_two\u001b[0m\u001b[0;34m,\u001b[0m \u001b[0msclf_score\u001b[0m \u001b[0;34m=\u001b[0m \u001b[0mmodel_utils\u001b[0m\u001b[0;34m.\u001b[0m\u001b[0mget_stack_two\u001b[0m\u001b[0;34m(\u001b[0m\u001b[0mrf_classifier\u001b[0m\u001b[0;34m,\u001b[0m \u001b[0mada_classifier\u001b[0m\u001b[0;34m,\u001b[0m \u001b[0mX_train\u001b[0m\u001b[0;34m,\u001b[0m \u001b[0mX_test\u001b[0m\u001b[0;34m,\u001b[0m \u001b[0my_train\u001b[0m\u001b[0;34m,\u001b[0m \u001b[0my_test\u001b[0m\u001b[0;34m,\u001b[0m \u001b[0mseed\u001b[0m\u001b[0;34m)\u001b[0m\u001b[0;34m\u001b[0m\u001b[0m\n\u001b[0m\u001b[1;32m      7\u001b[0m \u001b[0;34m\u001b[0m\u001b[0m\n\u001b[1;32m      8\u001b[0m \u001b[0mjoblib\u001b[0m\u001b[0;34m.\u001b[0m\u001b[0mdump\u001b[0m\u001b[0;34m(\u001b[0m\u001b[0msclf_two\u001b[0m\u001b[0;34m,\u001b[0m \u001b[0;34m'sclf_two.joblib'\u001b[0m\u001b[0;34m)\u001b[0m\u001b[0;34m\u001b[0m\u001b[0m\n",
      "\u001b[0;32m/Users/mrugeles/Documents/Udacity/DataScienceNanoDegree/projects/Write_a_Data_Science_Blog_Post/code/model_utils.py\u001b[0m in \u001b[0;36mget_stack_two\u001b[0;34m(clf_1, clf_2, X_train, X_test, y_train, y_test, seed)\u001b[0m\n\u001b[1;32m     94\u001b[0m \u001b[0;34m\u001b[0m\u001b[0m\n\u001b[1;32m     95\u001b[0m \u001b[0;32mdef\u001b[0m \u001b[0mget_stack_two\u001b[0m\u001b[0;34m(\u001b[0m\u001b[0mclf_1\u001b[0m\u001b[0;34m,\u001b[0m \u001b[0mclf_2\u001b[0m\u001b[0;34m,\u001b[0m \u001b[0mX_train\u001b[0m\u001b[0;34m,\u001b[0m \u001b[0mX_test\u001b[0m\u001b[0;34m,\u001b[0m \u001b[0my_train\u001b[0m\u001b[0;34m,\u001b[0m \u001b[0my_test\u001b[0m\u001b[0;34m,\u001b[0m \u001b[0mseed\u001b[0m\u001b[0;34m)\u001b[0m\u001b[0;34m:\u001b[0m\u001b[0;34m\u001b[0m\u001b[0m\n\u001b[0;32m---> 96\u001b[0;31m     sclf = StackingClassifier(classifiers=[clf_1, clf_2],\n\u001b[0m\u001b[1;32m     97\u001b[0m                           \u001b[0muse_features_in_secondary\u001b[0m \u001b[0;34m=\u001b[0m \u001b[0mTrue\u001b[0m\u001b[0;34m,\u001b[0m\u001b[0;34m\u001b[0m\u001b[0m\n\u001b[1;32m     98\u001b[0m                           meta_classifier=RandomForestClassifier(random_state = seed))\n",
      "\u001b[0;31mNameError\u001b[0m: global name 'StackingClassifier' is not defined"
     ]
    }
   ],
   "source": [
    "sclf_two, sclf_score = model_utils.get_stack_two(rf_classifier, ada_classifier, X_train, X_test, y_train, y_test, seed)\n",
    "\n",
    "joblib.dump(sclf_two, 'sclf_two.joblib') \n",
    "\n",
    "model_utils.model_validation('sclf_two.joblib', X_test, y_test)"
   ]
  },
  {
   "cell_type": "markdown",
   "metadata": {},
   "source": [
    "## Stacking with all classifiers"
   ]
  },
  {
   "cell_type": "code",
   "execution_count": null,
   "metadata": {},
   "outputs": [],
   "source": [
    "sclf_all, sclf_all_score = model_utils.get_stack_all(rf_classifier, ada_classifier, gauss_classifier, X_train, X_test, y_train, y_test, seed)\n",
    "\n",
    "joblib.dump(sclf2, 'sclf_all.joblib') \n",
    "\n",
    "model_utils.model_validation('sclf_all.joblib', X_test, y_test)"
   ]
  }
 ],
 "metadata": {
  "kernelspec": {
   "display_name": "Python 2",
   "language": "python",
   "name": "python2"
  },
  "language_info": {
   "codemirror_mode": {
    "name": "ipython",
    "version": 2
   },
   "file_extension": ".py",
   "mimetype": "text/x-python",
   "name": "python",
   "nbconvert_exporter": "python",
   "pygments_lexer": "ipython2",
   "version": "2.7.14"
  }
 },
 "nbformat": 4,
 "nbformat_minor": 2
}
