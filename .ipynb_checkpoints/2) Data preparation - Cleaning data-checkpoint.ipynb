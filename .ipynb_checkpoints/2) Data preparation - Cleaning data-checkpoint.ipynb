{
 "cells": [
  {
   "cell_type": "code",
   "execution_count": null,
   "metadata": {
    "scrolled": true
   },
   "outputs": [],
   "source": [
    "import data_utils\n",
    "\n",
    "dataset = data_utils.get_dataset()\n",
    "display(dataset.head())\n",
    "dataset.shape"
   ]
  },
  {
   "cell_type": "markdown",
   "metadata": {},
   "source": [
    "## Special case: AFEC_DPTO\n",
    "\n",
    "States names can take similar names for a same state, and given that there are relatively few states, it's possible to manually fix these values to avoid duplicates in classe values.\n",
    "\n",
    "Some features are writen in different ways, for example, 'ARCHIPIELAGO DE SAN ANDRES, PROVIDENCIA Y SANTA CATALINA', 'SAN ANDRES' and 'SAN ANDRÉS' are the same state. Same for 'BOGOTA D.C' and 'BOGOTA D.C.'"
   ]
  },
  {
   "cell_type": "code",
   "execution_count": null,
   "metadata": {},
   "outputs": [],
   "source": [
    "dataset[['AFEC_DPTO']].drop_duplicates().sort_values(by=['AFEC_DPTO'])"
   ]
  },
  {
   "cell_type": "code",
   "execution_count": null,
   "metadata": {
    "scrolled": false
   },
   "outputs": [],
   "source": [
    "dataset = data_utils.clean_afec_dpto(dataset)\n",
    "\n",
    "dataset[['AFEC_DPTO']].drop_duplicates().sort_values(by=['AFEC_DPTO'])"
   ]
  },
  {
   "cell_type": "markdown",
   "metadata": {},
   "source": [
    "### RIESGO_VIDA\n"
   ]
  },
  {
   "cell_type": "code",
   "execution_count": null,
   "metadata": {
    "scrolled": true
   },
   "outputs": [],
   "source": [
    "\n",
    "riesgo_vida = dataset['RIESGO_VIDA'].value_counts()\n",
    "riesgo_vida.plot(kind='bar', title='Patients with life at risk.');"
   ]
  },
  {
   "cell_type": "markdown",
   "metadata": {},
   "source": [
    "We remove rows with missing info in our target column"
   ]
  },
  {
   "cell_type": "code",
   "execution_count": null,
   "metadata": {
    "scrolled": false
   },
   "outputs": [],
   "source": [
    "dataset = data_utils.clean_riesgo_vida(dataset)\n",
    "\n",
    "riesgo_vida = dataset['RIESGO_VIDA'].value_counts()\n",
    "riesgo_vida.plot(kind='bar', title='Patients with life at risk.');"
   ]
  },
  {
   "cell_type": "markdown",
   "metadata": {},
   "source": [
    "### CIE_10\n",
    "\n",
    "In 'Data understanding' notebook we see CIE_10 was way too many missing values. '0' value is the most common value in the column so is not a good candidate for imputing values. But as the column contains descriptions about the patient's illness, we want to keep it as it can provide a signal to predict if the patient's life is at risk."
   ]
  },
  {
   "cell_type": "code",
   "execution_count": null,
   "metadata": {
    "scrolled": true
   },
   "outputs": [],
   "source": [
    "dataset = data_utils.clean_cie_10(dataset)\n",
    "dataset.shape"
   ]
  },
  {
   "cell_type": "code",
   "execution_count": null,
   "metadata": {},
   "outputs": [],
   "source": [
    "riesgo_vida = dataset['RIESGO_VIDA'].value_counts()\n",
    "riesgo_vida.plot(kind='bar', title='Patients with life at risk.');"
   ]
  },
  {
   "cell_type": "markdown",
   "metadata": {},
   "source": [
    "Removing records with CIE_10 = 0 reduces drastically the dataset from 2'375.371 to 281.311 records but it provided a huge improvement in the target's balance."
   ]
  },
  {
   "cell_type": "markdown",
   "metadata": {},
   "source": [
    "## Removing fields\n",
    "\n",
    "Acording to the oficial documentation, fields \"IDRANGOEDADES\", \"ID_MES\" and \"PQR_GRUPOALERTA\" have not statistical use, so they are removed from the dataset.\n",
    "\n",
    "Feature \"PQR_ESTADO\" has a significant statistical value that may bias the model. Once a PQRS enters the system, it goes through a series of states before the case is closed. First, Historycally, patients with life at risk can have a tendency to have a certain state or a relationship with and another feature (i.e patient's with life at risk may have most of their states as closed as they may have priority over other cases), so including \"PQR_ESTADO\" will make the model to make predictions over a feature that will not be statiastic relevant when introducing a new PQRS (When a new PQRS enters the system it will have a default state that is very unlikely to have the final state from the original data set).\n",
    "\n",
    "### Redundant features\n",
    "These features represent the same data, so we can keep only the codes and loose the descripion.\n",
    "\n",
    "* COD_MACROMOT = MACROMOTIVO\n",
    "* COD_MOTGEN = MOTIVO_GENERAL\n",
    "* COD_MOTESP = MOTIVO_ESPECIFICO\n",
    "* ENT_COD_DEPTO = ENT_DPTO\n",
    "* ENT_COD_MPIO = ENT_MPIO\n",
    "* PET_COD_DEPTO = PET_DPTO"
   ]
  },
  {
   "cell_type": "code",
   "execution_count": null,
   "metadata": {
    "scrolled": false
   },
   "outputs": [],
   "source": [
    "dataset = data_utils.remove_features(dataset)\n",
    "\n",
    "display(dataset.head(n = 5))\n",
    "dataset.shape"
   ]
  },
  {
   "cell_type": "markdown",
   "metadata": {},
   "source": [
    "### Imputing Values"
   ]
  },
  {
   "cell_type": "code",
   "execution_count": null,
   "metadata": {
    "scrolled": false
   },
   "outputs": [],
   "source": [
    "# Columns with zero values\n",
    "col_zero_values = set(dataset.columns[dataset.eq('0').mean() > 0])\n",
    "print(len(col_zero_values))\n",
    "print(col_zero_values)"
   ]
  },
  {
   "cell_type": "code",
   "execution_count": null,
   "metadata": {},
   "outputs": [],
   "source": [
    "dataset = data_utils.impute_values(dataset)\n",
    "dataset.to_csv(\"datasets/dataset_clean.csv\", index = False)"
   ]
  }
 ],
 "metadata": {
  "kernelspec": {
   "display_name": "Python 3",
   "language": "python",
   "name": "python3"
  },
  "language_info": {
   "codemirror_mode": {
    "name": "ipython",
    "version": 3
   },
   "file_extension": ".py",
   "mimetype": "text/x-python",
   "name": "python",
   "nbconvert_exporter": "python",
   "pygments_lexer": "ipython3",
   "version": "3.7.1"
  }
 },
 "nbformat": 4,
 "nbformat_minor": 2
}
