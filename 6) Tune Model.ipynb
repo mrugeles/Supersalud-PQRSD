{
 "cells": [
  {
   "cell_type": "code",
   "execution_count": 68,
   "metadata": {
    "scrolled": true
   },
   "outputs": [
    {
     "name": "stdout",
     "output_type": "stream",
     "text": [
      "{'seed': 134.0, 'test_size': 0.2, 'impute': 0.0}\n"
     ]
    },
    {
     "data": {
      "text/html": [
       "<div>\n",
       "<style scoped>\n",
       "    .dataframe tbody tr th:only-of-type {\n",
       "        vertical-align: middle;\n",
       "    }\n",
       "\n",
       "    .dataframe tbody tr th {\n",
       "        vertical-align: top;\n",
       "    }\n",
       "\n",
       "    .dataframe thead th {\n",
       "        text-align: right;\n",
       "    }\n",
       "</style>\n",
       "<table border=\"1\" class=\"dataframe\">\n",
       "  <thead>\n",
       "    <tr style=\"text-align: right;\">\n",
       "      <th></th>\n",
       "      <th>AFEC_DPTO</th>\n",
       "      <th>AFEC_EDADR</th>\n",
       "      <th>AFEC_EDUC</th>\n",
       "      <th>AFEC_GENERO</th>\n",
       "      <th>AFEC_GETNICO</th>\n",
       "      <th>AFEC_MPIO</th>\n",
       "      <th>AFEC_PARENTESCO</th>\n",
       "      <th>AFEC_POBESPECIAL</th>\n",
       "      <th>AFEC_REGAFILIACION</th>\n",
       "      <th>AFEC_TIPOPER</th>\n",
       "      <th>...</th>\n",
       "      <th>PATOLOGIA_TIPO</th>\n",
       "      <th>PET_COD_DEPTO</th>\n",
       "      <th>PET_MPIO</th>\n",
       "      <th>PET_TIPOPER</th>\n",
       "      <th>PQR_CANAL</th>\n",
       "      <th>PQR_CLASE_SNS</th>\n",
       "      <th>PQR_TIPOATENCION</th>\n",
       "      <th>PQR_TIPOPETICION</th>\n",
       "      <th>TRIM</th>\n",
       "      <th>RIESGO_VIDA</th>\n",
       "    </tr>\n",
       "  </thead>\n",
       "  <tbody>\n",
       "    <tr>\n",
       "      <th>0</th>\n",
       "      <td>0.413632</td>\n",
       "      <td>0.457947</td>\n",
       "      <td>0.404291</td>\n",
       "      <td>0.422006</td>\n",
       "      <td>0.43569</td>\n",
       "      <td>0.411426</td>\n",
       "      <td>0.498799</td>\n",
       "      <td>0.425020</td>\n",
       "      <td>0.488333</td>\n",
       "      <td>0.436371</td>\n",
       "      <td>...</td>\n",
       "      <td>0.388499</td>\n",
       "      <td>0.416195</td>\n",
       "      <td>0.420014</td>\n",
       "      <td>0.271184</td>\n",
       "      <td>0.168226</td>\n",
       "      <td>0.457652</td>\n",
       "      <td>0.266635</td>\n",
       "      <td>0.456139</td>\n",
       "      <td>0.4024</td>\n",
       "      <td>0</td>\n",
       "    </tr>\n",
       "    <tr>\n",
       "      <th>1</th>\n",
       "      <td>0.367341</td>\n",
       "      <td>0.457947</td>\n",
       "      <td>0.447575</td>\n",
       "      <td>0.455866</td>\n",
       "      <td>0.43569</td>\n",
       "      <td>0.371084</td>\n",
       "      <td>0.459542</td>\n",
       "      <td>0.425020</td>\n",
       "      <td>0.420733</td>\n",
       "      <td>0.436371</td>\n",
       "      <td>...</td>\n",
       "      <td>0.388499</td>\n",
       "      <td>0.375220</td>\n",
       "      <td>0.366720</td>\n",
       "      <td>0.433927</td>\n",
       "      <td>0.281359</td>\n",
       "      <td>0.457652</td>\n",
       "      <td>0.459141</td>\n",
       "      <td>0.456139</td>\n",
       "      <td>0.4024</td>\n",
       "      <td>0</td>\n",
       "    </tr>\n",
       "    <tr>\n",
       "      <th>2</th>\n",
       "      <td>0.557791</td>\n",
       "      <td>0.457947</td>\n",
       "      <td>0.488072</td>\n",
       "      <td>0.455866</td>\n",
       "      <td>0.43569</td>\n",
       "      <td>0.564257</td>\n",
       "      <td>0.532725</td>\n",
       "      <td>0.425020</td>\n",
       "      <td>0.420733</td>\n",
       "      <td>0.436371</td>\n",
       "      <td>...</td>\n",
       "      <td>0.388499</td>\n",
       "      <td>0.549517</td>\n",
       "      <td>0.558897</td>\n",
       "      <td>0.433927</td>\n",
       "      <td>0.616036</td>\n",
       "      <td>0.457652</td>\n",
       "      <td>0.459141</td>\n",
       "      <td>0.456139</td>\n",
       "      <td>0.4024</td>\n",
       "      <td>0</td>\n",
       "    </tr>\n",
       "    <tr>\n",
       "      <th>3</th>\n",
       "      <td>0.409106</td>\n",
       "      <td>0.457947</td>\n",
       "      <td>0.404291</td>\n",
       "      <td>0.455866</td>\n",
       "      <td>0.43569</td>\n",
       "      <td>0.445723</td>\n",
       "      <td>0.532725</td>\n",
       "      <td>0.526102</td>\n",
       "      <td>0.420733</td>\n",
       "      <td>0.436371</td>\n",
       "      <td>...</td>\n",
       "      <td>0.450952</td>\n",
       "      <td>0.407647</td>\n",
       "      <td>0.447220</td>\n",
       "      <td>0.433927</td>\n",
       "      <td>0.616036</td>\n",
       "      <td>0.457652</td>\n",
       "      <td>0.459141</td>\n",
       "      <td>0.456139</td>\n",
       "      <td>0.4024</td>\n",
       "      <td>1</td>\n",
       "    </tr>\n",
       "    <tr>\n",
       "      <th>4</th>\n",
       "      <td>0.413632</td>\n",
       "      <td>0.457947</td>\n",
       "      <td>0.404291</td>\n",
       "      <td>0.455866</td>\n",
       "      <td>0.43569</td>\n",
       "      <td>0.411426</td>\n",
       "      <td>0.498799</td>\n",
       "      <td>0.425020</td>\n",
       "      <td>0.488333</td>\n",
       "      <td>0.436371</td>\n",
       "      <td>...</td>\n",
       "      <td>0.388499</td>\n",
       "      <td>0.416195</td>\n",
       "      <td>0.420014</td>\n",
       "      <td>0.271184</td>\n",
       "      <td>0.168226</td>\n",
       "      <td>0.457652</td>\n",
       "      <td>0.266635</td>\n",
       "      <td>0.456139</td>\n",
       "      <td>0.4024</td>\n",
       "      <td>0</td>\n",
       "    </tr>\n",
       "  </tbody>\n",
       "</table>\n",
       "<p>5 rows × 36 columns</p>\n",
       "</div>"
      ],
      "text/plain": [
       "   AFEC_DPTO  AFEC_EDADR  AFEC_EDUC  AFEC_GENERO  AFEC_GETNICO  AFEC_MPIO  \\\n",
       "0  0.413632   0.457947    0.404291   0.422006     0.43569       0.411426    \n",
       "1  0.367341   0.457947    0.447575   0.455866     0.43569       0.371084    \n",
       "2  0.557791   0.457947    0.488072   0.455866     0.43569       0.564257    \n",
       "3  0.409106   0.457947    0.404291   0.455866     0.43569       0.445723    \n",
       "4  0.413632   0.457947    0.404291   0.455866     0.43569       0.411426    \n",
       "\n",
       "   AFEC_PARENTESCO  AFEC_POBESPECIAL  AFEC_REGAFILIACION  AFEC_TIPOPER  \\\n",
       "0  0.498799         0.425020          0.488333            0.436371       \n",
       "1  0.459542         0.425020          0.420733            0.436371       \n",
       "2  0.532725         0.425020          0.420733            0.436371       \n",
       "3  0.532725         0.526102          0.420733            0.436371       \n",
       "4  0.498799         0.425020          0.488333            0.436371       \n",
       "\n",
       "      ...       PATOLOGIA_TIPO  PET_COD_DEPTO  PET_MPIO  PET_TIPOPER  \\\n",
       "0     ...       0.388499        0.416195       0.420014  0.271184      \n",
       "1     ...       0.388499        0.375220       0.366720  0.433927      \n",
       "2     ...       0.388499        0.549517       0.558897  0.433927      \n",
       "3     ...       0.450952        0.407647       0.447220  0.433927      \n",
       "4     ...       0.388499        0.416195       0.420014  0.271184      \n",
       "\n",
       "   PQR_CANAL  PQR_CLASE_SNS  PQR_TIPOATENCION  PQR_TIPOPETICION    TRIM  \\\n",
       "0  0.168226   0.457652       0.266635          0.456139          0.4024   \n",
       "1  0.281359   0.457652       0.459141          0.456139          0.4024   \n",
       "2  0.616036   0.457652       0.459141          0.456139          0.4024   \n",
       "3  0.616036   0.457652       0.459141          0.456139          0.4024   \n",
       "4  0.168226   0.457652       0.266635          0.456139          0.4024   \n",
       "\n",
       "   RIESGO_VIDA  \n",
       "0  0            \n",
       "1  0            \n",
       "2  0            \n",
       "3  1            \n",
       "4  0            \n",
       "\n",
       "[5 rows x 36 columns]"
      ]
     },
     "metadata": {},
     "output_type": "display_data"
    }
   ],
   "source": [
    "import numpy as np\n",
    "import pandas as pd\n",
    "from time import time\n",
    "import matplotlib.pyplot as plt\n",
    "from IPython.display import display \n",
    "from sklearn.metrics import fbeta_score\n",
    "import model_utils as model_utils\n",
    "from sklearn.externals import joblib\n",
    "import warnings\n",
    "warnings.filterwarnings('ignore')\n",
    "\n",
    "import json\n",
    "# Pretty display for notebooks\n",
    "%matplotlib inline\n",
    "pd.set_option('display.max_colwidth', -1)\n",
    "\n",
    "\n",
    "with open('best_config.json') as json_data_file:\n",
    "    config = json.load(json_data_file)[0]\n",
    "print(config)\n",
    "seed = int(config['seed'])\n",
    "test_size = config['test_size']\n",
    "\n",
    "dataset = pd.read_csv(\"datasets/targetencoder_dataset.csv\")\n",
    "display(dataset.head(n = 5))\n",
    "\n",
    "labels = dataset[['RIESGO_VIDA']]\n",
    "features = dataset.drop(['RIESGO_VIDA'], axis = 1)\n"
   ]
  },
  {
   "cell_type": "code",
   "execution_count": 75,
   "metadata": {},
   "outputs": [
    {
     "name": "stdout",
     "output_type": "stream",
     "text": [
      "features_final set has 281311 samples.\n",
      "Training set has 225048 samples.\n",
      "Testing set has 56263 samples.\n"
     ]
    }
   ],
   "source": [
    "# Import train_test_split\n",
    "from sklearn.model_selection import train_test_split\n",
    "\n",
    "# Split the 'features' and 'labels' data into training and testing sets\n",
    "X_train, X_test, y_train, y_test = train_test_split(features, labels, test_size = .2, random_state = seed, stratify=labels)\n",
    "\n",
    "# Show the results of the split\n",
    "print(\"features_final set has {} samples.\".format(features.shape[0]))\n",
    "print(\"Training set has {} samples.\".format(X_train.shape[0]))\n",
    "print(\"Testing set has {} samples.\".format(X_test.shape[0]))\n"
   ]
  },
  {
   "cell_type": "markdown",
   "metadata": {},
   "source": [
    "# Tuning Models"
   ]
  },
  {
   "cell_type": "markdown",
   "metadata": {},
   "source": [
    "## Tuning PassiveAggressiveClassifier"
   ]
  },
  {
   "cell_type": "code",
   "execution_count": 76,
   "metadata": {
    "scrolled": false
   },
   "outputs": [
    {
     "name": "stdout",
     "output_type": "stream",
     "text": [
      "('PassiveAggressiveClassifier',) tuned in 7.799983263015747 seconds.\n",
      "Unoptimized model\n",
      "------\n",
      "F-score: 0.8620\n",
      "\n",
      "Optimized Model\n",
      "------\n",
      "Final F-score: 0.8730\n"
     ]
    },
    {
     "data": {
      "image/png": "[encoded data removed]",
      "text/plain": [
       "<Figure size 432x288 with 2 Axes>"
      ]
     },
     "metadata": {
      "needs_background": "light"
     },
     "output_type": "display_data"
    }
   ],
   "source": [
    "from sklearn.metrics import make_scorer\n",
    "from sklearn.linear_model import PassiveAggressiveClassifier\n",
    "clf = PassiveAggressiveClassifier(random_state = seed)\n",
    "\n",
    "clfParameters = {    \n",
    "  'fit_intercept':[True, False],\n",
    "  #'max_iter':[1000, 2000],\n",
    "  'early_stopping':[True, False],\n",
    "  'warm_start':[True, False],\n",
    "  'class_weight': ['balanced'],\n",
    "  'average': [True, False] \n",
    "}\n",
    "\n",
    "rf_classifier, default_rf_score, tuned_rf_score, cnf_rf_matrix = model_utils.tune_classifier(clf, clfParameters, X_train, X_test, y_train, y_test)\n",
    "\n",
    "model_utils.plot_confusion_matrix(cnf_rf_matrix, classes=['Life not as risk', 'Life at risk'], normalize = True)\n",
    "print(\"Unoptimized model\\n------\")\n",
    "print(\"F-score: {:.4f}\".format(default_rf_score))\n",
    "print(\"\\nOptimized Model\\n------\")\n",
    "print(\"Final F-score: {:.4f}\".format(tuned_rf_score))\n",
    "#joblib.dump(rf_classifier, 'rf_classifier.joblib')\n"
   ]
  },
  {
   "cell_type": "markdown",
   "metadata": {},
   "source": [
    "## Tuning MLPClassifier"
   ]
  },
  {
   "cell_type": "code",
   "execution_count": 82,
   "metadata": {
    "scrolled": false
   },
   "outputs": [
    {
     "name": "stdout",
     "output_type": "stream",
     "text": [
      "('MLPClassifier',) tuned in 1721.4086649417877 seconds.\n",
      "Unoptimized model\n",
      "------\n",
      "F-score: 0.8419\n",
      "\n",
      "Optimized Model\n",
      "------\n",
      "Final F-score: 0.8419\n"
     ]
    }
   ],
   "source": [
    "\n",
    "from sklearn.neural_network import MLPClassifier\n",
    "\n",
    "nn_classifier = MLPClassifier(random_state = seed)\n",
    "\n",
    "nnParameters = {\n",
    "  #'hidden_layer_sizes':[50, 100, 200],\n",
    "  #'activation' :['identity', 'logistic', 'tanh', 'relu'],\n",
    "  #'solver': ['lbfgs', 'sgd', 'adam'],\n",
    "  #'batch_size': [700],\n",
    "  #'early_stopping': [True]  \n",
    "\n",
    "}\n",
    "\n",
    "nn_classifier, default_nn_score, tuned_nn_score, matrix = model_utils.tune_classifier(nn_classifier, nnParameters,  X_train, X_test, y_train, y_test)\n",
    "\n",
    "#model_utils.plot_confusion_matrix(cnf_ada_matrix, classes=['Life not as risk', 'Life at risk'], normalize = True)\n",
    "print(\"Unoptimized model\\n------\")\n",
    "print(\"F-score: {:.4f}\".format(default_nn_score))\n",
    "print(\"\\nOptimized Model\\n------\")\n",
    "print(\"Final F-score: {:.4f}\".format(tuned_nn_score))\n",
    "\n",
    "#joblib.dump(ada_classifier, 'ada_classifier.joblib')\n",
    "\n"
   ]
  },
  {
   "cell_type": "markdown",
   "metadata": {},
   "source": [
    "## Tuning GradientBoostingClassifier\n"
   ]
  },
  {
   "cell_type": "code",
   "execution_count": 78,
   "metadata": {},
   "outputs": [
    {
     "data": {
      "text/plain": [
       "'\\nfrom sklearn.ensemble import GradientBoostingClassifier\\n\\nfrom scipy.stats import randint as sp_randint\\nfrom sklearn.metrics import make_scorer\\n\\nrf_classifier = GradientBoostingClassifier()\\n\\nrfParameters = { \\n  \\'loss\\': [\\'deviance\\', \\'exponential\\'],\\n  #\\'learning_rate\\':[0.1, 0.5, 1],\\n  \\'n_estimators\\':[50, 100, 200],\\n  #\\'subsample\\': [0.5, 1], \\n  \\'criterion\\':[\\'friedman_mse\\', \\'mse\\', \\'mae\\'],\\n  #\\'min_samples_split\\': sp_randint(2, 4),\\n  #\\'min_samples_leaf\\': sp_randint(2, 4),\\n  #\\'max_depth\\':sp_randint(5, 30),\\n  #\\'max_features\\':[\\'auto\\', \\'sqrt\\', \\'log2\\', None] \\n}\\n\\nrf_classifier, default_rf_score, tuned_rf_score = model_utils.tune_classifier(rf_classifier, rfParameters, X_train, X_test, y_train, y_test)\\n\\n#model_utils.plot_confusion_matrix(cnf_rf_matrix, classes=[\\'Life not as risk\\', \\'Life at risk\\'], normalize = True)\\nprint(\"Unoptimized model\\n------\")\\nprint(\"F-score on testing data: {:.4f}\".format(default_rf_score))\\nprint(\"\\nOptimized Model\\n------\")\\nprint(\"Final F-score on the testing data: {:.4f}\".format(tuned_rf_score))\\n#joblib.dump(rf_classifier, \\'rf_classifier.joblib\\') )\\n'"
      ]
     },
     "execution_count": 78,
     "metadata": {},
     "output_type": "execute_result"
    }
   ],
   "source": [
    "\n",
    "'''\n",
    "from sklearn.ensemble import GradientBoostingClassifier\n",
    "\n",
    "from scipy.stats import randint as sp_randint\n",
    "from sklearn.metrics import make_scorer\n",
    "\n",
    "rf_classifier = GradientBoostingClassifier()\n",
    "\n",
    "rfParameters = { \n",
    "  'loss': ['deviance', 'exponential'],\n",
    "  #'learning_rate':[0.1, 0.5, 1],\n",
    "  'n_estimators':[50, 100, 200],\n",
    "  #'subsample': [0.5, 1], \n",
    "  'criterion':['friedman_mse', 'mse', 'mae'],\n",
    "  #'min_samples_split': sp_randint(2, 4),\n",
    "  #'min_samples_leaf': sp_randint(2, 4),\n",
    "  #'max_depth':sp_randint(5, 30),\n",
    "  #'max_features':['auto', 'sqrt', 'log2', None] \n",
    "}\n",
    "\n",
    "rf_classifier, default_rf_score, tuned_rf_score = model_utils.tune_classifier(rf_classifier, rfParameters, X_train, X_test, y_train, y_test)\n",
    "\n",
    "#model_utils.plot_confusion_matrix(cnf_rf_matrix, classes=['Life not as risk', 'Life at risk'], normalize = True)\n",
    "print(\"Unoptimized model\\n------\")\n",
    "print(\"F-score on testing data: {:.4f}\".format(default_rf_score))\n",
    "print(\"\\nOptimized Model\\n------\")\n",
    "print(\"Final F-score on the testing data: {:.4f}\".format(tuned_rf_score))\n",
    "#joblib.dump(rf_classifier, 'rf_classifier.joblib') )\n",
    "'''"
   ]
  },
  {
   "cell_type": "markdown",
   "metadata": {},
   "source": [
    "# Stacking\n",
    "## Stacking with to best classifiers"
   ]
  },
  {
   "cell_type": "code",
   "execution_count": 83,
   "metadata": {},
   "outputs": [
    {
     "name": "stdout",
     "output_type": "stream",
     "text": [
      "F-score on validation data: 0.8048\n"
     ]
    },
    {
     "data": {
      "text/plain": [
       "StackingClassifier(average_probas=False,\n",
       "          classifiers=[PassiveAggressiveClassifier(C=1.0, average=False, class_weight='balanced',\n",
       "              early_stopping=True, fit_intercept=True, loss='hinge',\n",
       "              max_iter=None, n_iter=None, n_iter_no_change=5, n_jobs=None,\n",
       "              random_state=134, shuffle=True, tol=None,\n",
       "            ...e=True, solver='adam', tol=0.0001,\n",
       "       validation_fraction=0.1, verbose=False, warm_start=False)],\n",
       "          meta_classifier=RandomForestClassifier(bootstrap=True, class_weight=None, criterion='gini',\n",
       "            max_depth=None, max_features='auto', max_leaf_nodes=None,\n",
       "            min_impurity_decrease=0.0, min_impurity_split=None,\n",
       "            min_samples_leaf=1, min_samples_split=2,\n",
       "            min_weight_fraction_leaf=0.0, n_estimators='warn', n_jobs=None,\n",
       "            oob_score=False, random_state=134, verbose=0, warm_start=False),\n",
       "          store_train_meta_features=False, use_clones=True,\n",
       "          use_features_in_secondary=True, use_probas=False, verbose=0)"
      ]
     },
     "execution_count": 83,
     "metadata": {},
     "output_type": "execute_result"
    },
    {
     "data": {
      "image/png": "[encoded data removed]",
      "text/plain": [
       "<Figure size 432x288 with 2 Axes>"
      ]
     },
     "metadata": {
      "needs_background": "light"
     },
     "output_type": "display_data"
    }
   ],
   "source": [
    "\n",
    "\n",
    "sclf_two, sclf_score = model_utils.get_stack_two(rf_classifier, nn_classifier, X_train, X_test, y_train, y_test, seed)\n",
    "\n",
    "joblib.dump(sclf_two, 'sclf_two.joblib') \n",
    "\n",
    "model_utils.model_validation('sclf_two.joblib', X_test, y_test)\n"
   ]
  },
  {
   "cell_type": "markdown",
   "metadata": {},
   "source": [
    "## Stacking with all classifiers"
   ]
  },
  {
   "cell_type": "code",
   "execution_count": 80,
   "metadata": {},
   "outputs": [
    {
     "data": {
      "text/plain": [
       "\"\\nsclf_all, sclf_all_score = model_utils.get_stack_all(rf_classifier, ada_classifier, gauss_classifier, X_train, X_test, y_train, y_test, seed)\\n\\njoblib.dump(sclf_all, 'sclf_all.joblib') \\n\\nmodel_utils.model_validation('sclf_all.joblib', X_test, y_test)\\n\""
      ]
     },
     "execution_count": 80,
     "metadata": {},
     "output_type": "execute_result"
    }
   ],
   "source": [
    "'''\n",
    "sclf_all, sclf_all_score = model_utils.get_stack_all(rf_classifier, ada_classifier, gauss_classifier, X_train, X_test, y_train, y_test, seed)\n",
    "\n",
    "joblib.dump(sclf_all, 'sclf_all.joblib') \n",
    "\n",
    "model_utils.model_validation('sclf_all.joblib', X_test, y_test)\n",
    "'''"
   ]
  }
 ],
 "metadata": {
  "kernelspec": {
   "display_name": "Python 3",
   "language": "python",
   "name": "python3"
  },
  "language_info": {
   "codemirror_mode": {
    "name": "ipython",
    "version": 3
   },
   "file_extension": ".py",
   "mimetype": "text/x-python",
   "name": "python",
   "nbconvert_exporter": "python",
   "pygments_lexer": "ipython3",
   "version": "3.7.1"
  }
 },
 "nbformat": 4,
 "nbformat_minor": 2
}
