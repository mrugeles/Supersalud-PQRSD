{
 "cells": [
  {
   "cell_type": "code",
   "execution_count": 1,
   "metadata": {},
   "outputs": [
    {
     "name": "stdout",
     "output_type": "stream",
     "text": [
      "rm: Base_De_Datos_PQRD*: No such file or directory\n",
      "Warning: Failed to set locale category LC_NUMERIC to en_CO.\n",
      "Warning: Failed to set locale category LC_TIME to en_CO.\n",
      "Warning: Failed to set locale category LC_COLLATE to en_CO.\n",
      "Warning: Failed to set locale category LC_MONETARY to en_CO.\n",
      "Warning: Failed to set locale category LC_MESSAGES to en_CO.\n",
      "Warning: Failed to set locale category LC_NUMERIC to en_CO.\n",
      "Warning: Failed to set locale category LC_TIME to en_CO.\n",
      "Warning: Failed to set locale category LC_COLLATE to en_CO.\n",
      "Warning: Failed to set locale category LC_MONETARY to en_CO.\n",
      "Warning: Failed to set locale category LC_MESSAGES to en_CO.\n",
      "Warning: Failed to set locale category LC_NUMERIC to en_CO.\n",
      "Warning: Failed to set locale category LC_TIME to en_CO.\n",
      "Warning: Failed to set locale category LC_COLLATE to en_CO.\n",
      "Warning: Failed to set locale category LC_MONETARY to en_CO.\n",
      "Warning: Failed to set locale category LC_MESSAGES to en_CO.\n"
     ]
    }
   ],
   "source": [
    "!rm -rf datasets\n",
    "!rm Base_De_Datos_PQRD*\n",
    "!mkdir datasets \n",
    "!wget -q -O Base_De_Datos_PQRD_2015.csv https://www.datos.gov.co/api/views/36n3-fsjh/rows.csv?accessType=DOWNLOAD\n",
    "!wget -q -O Base_De_Datos_PQRD_2016.csv https://www.datos.gov.co/api/views/b3xk-8uh2/rows.csv?accessType=DOWNLOAD\n",
    "!wget -q -O Base_De_Datos_PQRD_2017.csv https://www.datos.gov.co/api/views/gg2r-kx6x/rows.csv?accessType=DOWNLOAD\n",
    "!mv Base_De_Datos_PQRD* datasets\n"
   ]
  },
  {
   "cell_type": "code",
   "execution_count": 2,
   "metadata": {
    "scrolled": true
   },
   "outputs": [],
   "source": [
    "import data_utils\n",
    "import pandas as pd\n",
    "dataset = data_utils.get_pqrd_dataset()"
   ]
  },
  {
   "cell_type": "code",
   "execution_count": 6,
   "metadata": {},
   "outputs": [
    {
     "data": {
      "text/plain": [
       "{'0',\n",
       " 'administradora de riesgos profesionales en actividades de salud',\n",
       " 'asociaciones de usuarios',\n",
       " 'contraloria',\n",
       " 'direccion territorial de salud - departamental y/o distrital',\n",
       " 'direccion territorial de salud - municipal',\n",
       " 'entidades administradoras de planes de beneficios (eapb)',\n",
       " 'entidades territoriales',\n",
       " 'eps - conttributivo',\n",
       " 'eps - subsidiado',\n",
       " 'fondo de solidaridad y garantia (fosyga)',\n",
       " 'fundaciones',\n",
       " 'generadores de recursos economicos (licores y juegos de azar)',\n",
       " 'instituciones prestadoras de servicios de salud (ips)',\n",
       " 'ips - privada',\n",
       " 'ips - publica',\n",
       " 'ministerio de la proteccion social',\n",
       " 'ministerio de trabajo',\n",
       " 'nan',\n",
       " 'otros',\n",
       " 'otros actores',\n",
       " 'personeria',\n",
       " 'presidencia de la republica',\n",
       " 'procuraduria',\n",
       " 'superintendencia industria y comercio',\n",
       " 'tribunales de etica medica',\n",
       " 'veedurias'}"
      ]
     },
     "execution_count": 6,
     "metadata": {},
     "output_type": "execute_result"
    }
   ],
   "source": [
    "set(dataset['ENT_AMBITOIVC'].values)"
   ]
  },
  {
   "cell_type": "code",
   "execution_count": 8,
   "metadata": {},
   "outputs": [],
   "source": [
    "dataset.to_csv('datasets/dataset.csv', index = False)"
   ]
  },
  {
   "cell_type": "code",
   "execution_count": 10,
   "metadata": {},
   "outputs": [
    {
     "data": {
      "text/html": [
       "<div>\n",
       "<style scoped>\n",
       "    .dataframe tbody tr th:only-of-type {\n",
       "        vertical-align: middle;\n",
       "    }\n",
       "\n",
       "    .dataframe tbody tr th {\n",
       "        vertical-align: top;\n",
       "    }\n",
       "\n",
       "    .dataframe thead th {\n",
       "        text-align: right;\n",
       "    }\n",
       "</style>\n",
       "<table border=\"1\" class=\"dataframe\">\n",
       "  <thead>\n",
       "    <tr style=\"text-align: right;\">\n",
       "      <th></th>\n",
       "      <th>ENT_AMBITOIVC</th>\n",
       "    </tr>\n",
       "  </thead>\n",
       "  <tbody>\n",
       "    <tr>\n",
       "      <th>0</th>\n",
       "      <td>nan</td>\n",
       "    </tr>\n",
       "    <tr>\n",
       "      <th>1</th>\n",
       "      <td>0</td>\n",
       "    </tr>\n",
       "    <tr>\n",
       "      <th>2</th>\n",
       "      <td>0</td>\n",
       "    </tr>\n",
       "    <tr>\n",
       "      <th>3</th>\n",
       "      <td>0</td>\n",
       "    </tr>\n",
       "    <tr>\n",
       "      <th>4</th>\n",
       "      <td>0</td>\n",
       "    </tr>\n",
       "  </tbody>\n",
       "</table>\n",
       "</div>"
      ],
      "text/plain": [
       "  ENT_AMBITOIVC\n",
       "0           nan\n",
       "1             0\n",
       "2             0\n",
       "3             0\n",
       "4             0"
      ]
     },
     "execution_count": 10,
     "metadata": {},
     "output_type": "execute_result"
    }
   ],
   "source": [
    "dataset[['ENT_AMBITOIVC']].head()"
   ]
  }
 ],
 "metadata": {
  "kernelspec": {
   "display_name": "Python 3",
   "language": "python",
   "name": "python3"
  },
  "language_info": {
   "codemirror_mode": {
    "name": "ipython",
    "version": 3
   },
   "file_extension": ".py",
   "mimetype": "text/x-python",
   "name": "python",
   "nbconvert_exporter": "python",
   "pygments_lexer": "ipython3",
   "version": "3.7.1"
  }
 },
 "nbformat": 4,
 "nbformat_minor": 2
}
