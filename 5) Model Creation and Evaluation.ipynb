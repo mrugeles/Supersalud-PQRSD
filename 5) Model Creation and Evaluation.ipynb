{
 "cells": [
  {
   "cell_type": "code",
   "execution_count": 1,
   "metadata": {
    "scrolled": true
   },
   "outputs": [
    {
     "name": "stdout",
     "output_type": "stream",
     "text": [
      "{'seed': 134.0, 'test_size': 0.1, 'impute': 0.0}\n"
     ]
    },
    {
     "data": {
      "text/html": [
       "<div>\n",
       "<style scoped>\n",
       "    .dataframe tbody tr th:only-of-type {\n",
       "        vertical-align: middle;\n",
       "    }\n",
       "\n",
       "    .dataframe tbody tr th {\n",
       "        vertical-align: top;\n",
       "    }\n",
       "\n",
       "    .dataframe thead th {\n",
       "        text-align: right;\n",
       "    }\n",
       "</style>\n",
       "<table border=\"1\" class=\"dataframe\">\n",
       "  <thead>\n",
       "    <tr style=\"text-align: right;\">\n",
       "      <th></th>\n",
       "      <th>AFEC_DPTO</th>\n",
       "      <th>AFEC_EDADR</th>\n",
       "      <th>AFEC_EDUC</th>\n",
       "      <th>AFEC_GENERO</th>\n",
       "      <th>AFEC_GETNICO</th>\n",
       "      <th>AFEC_MPIO</th>\n",
       "      <th>AFEC_PARENTESCO</th>\n",
       "      <th>AFEC_POBESPECIAL</th>\n",
       "      <th>AFEC_REGAFILIACION</th>\n",
       "      <th>AFEC_TIPOPER</th>\n",
       "      <th>...</th>\n",
       "      <th>PATOLOGIA_TIPO</th>\n",
       "      <th>PET_COD_DEPTO</th>\n",
       "      <th>PET_MPIO</th>\n",
       "      <th>PET_TIPOPER</th>\n",
       "      <th>PQR_CANAL</th>\n",
       "      <th>PQR_CLASE_SNS</th>\n",
       "      <th>PQR_TIPOATENCION</th>\n",
       "      <th>PQR_TIPOPETICION</th>\n",
       "      <th>TRIM</th>\n",
       "      <th>RIESGO_VIDA</th>\n",
       "    </tr>\n",
       "  </thead>\n",
       "  <tbody>\n",
       "    <tr>\n",
       "      <th>0</th>\n",
       "      <td>0.395919</td>\n",
       "      <td>0.457947</td>\n",
       "      <td>0.380423</td>\n",
       "      <td>0.411529</td>\n",
       "      <td>0.425423</td>\n",
       "      <td>0.382809</td>\n",
       "      <td>0.498799</td>\n",
       "      <td>0.414489</td>\n",
       "      <td>0.488333</td>\n",
       "      <td>0.430952</td>\n",
       "      <td>...</td>\n",
       "      <td>0.388308</td>\n",
       "      <td>0.419981</td>\n",
       "      <td>0.427278</td>\n",
       "      <td>0.271184</td>\n",
       "      <td>0.168226</td>\n",
       "      <td>0.457652</td>\n",
       "      <td>0.434452</td>\n",
       "      <td>0.456139</td>\n",
       "      <td>0.4024</td>\n",
       "      <td>0</td>\n",
       "    </tr>\n",
       "    <tr>\n",
       "      <th>1</th>\n",
       "      <td>0.367341</td>\n",
       "      <td>0.457947</td>\n",
       "      <td>0.447575</td>\n",
       "      <td>0.455866</td>\n",
       "      <td>0.425423</td>\n",
       "      <td>0.371084</td>\n",
       "      <td>0.459542</td>\n",
       "      <td>0.414489</td>\n",
       "      <td>0.411413</td>\n",
       "      <td>0.430952</td>\n",
       "      <td>...</td>\n",
       "      <td>0.388308</td>\n",
       "      <td>0.375220</td>\n",
       "      <td>0.366720</td>\n",
       "      <td>0.433903</td>\n",
       "      <td>0.281359</td>\n",
       "      <td>0.457652</td>\n",
       "      <td>0.434452</td>\n",
       "      <td>0.456139</td>\n",
       "      <td>0.4024</td>\n",
       "      <td>0</td>\n",
       "    </tr>\n",
       "    <tr>\n",
       "      <th>2</th>\n",
       "      <td>0.557791</td>\n",
       "      <td>0.457947</td>\n",
       "      <td>0.488072</td>\n",
       "      <td>0.455866</td>\n",
       "      <td>0.425423</td>\n",
       "      <td>0.564257</td>\n",
       "      <td>0.532725</td>\n",
       "      <td>0.414489</td>\n",
       "      <td>0.411413</td>\n",
       "      <td>0.430952</td>\n",
       "      <td>...</td>\n",
       "      <td>0.388308</td>\n",
       "      <td>0.549517</td>\n",
       "      <td>0.558897</td>\n",
       "      <td>0.433903</td>\n",
       "      <td>0.616036</td>\n",
       "      <td>0.457652</td>\n",
       "      <td>0.434452</td>\n",
       "      <td>0.456139</td>\n",
       "      <td>0.4024</td>\n",
       "      <td>0</td>\n",
       "    </tr>\n",
       "    <tr>\n",
       "      <th>3</th>\n",
       "      <td>0.409106</td>\n",
       "      <td>0.457947</td>\n",
       "      <td>0.380423</td>\n",
       "      <td>0.455866</td>\n",
       "      <td>0.425423</td>\n",
       "      <td>0.445723</td>\n",
       "      <td>0.532725</td>\n",
       "      <td>0.526102</td>\n",
       "      <td>0.411413</td>\n",
       "      <td>0.430952</td>\n",
       "      <td>...</td>\n",
       "      <td>0.450952</td>\n",
       "      <td>0.407647</td>\n",
       "      <td>0.447220</td>\n",
       "      <td>0.433903</td>\n",
       "      <td>0.616036</td>\n",
       "      <td>0.457652</td>\n",
       "      <td>0.434452</td>\n",
       "      <td>0.456139</td>\n",
       "      <td>0.4024</td>\n",
       "      <td>1</td>\n",
       "    </tr>\n",
       "    <tr>\n",
       "      <th>4</th>\n",
       "      <td>0.395919</td>\n",
       "      <td>0.457947</td>\n",
       "      <td>0.380423</td>\n",
       "      <td>0.455866</td>\n",
       "      <td>0.425423</td>\n",
       "      <td>0.382809</td>\n",
       "      <td>0.498799</td>\n",
       "      <td>0.414489</td>\n",
       "      <td>0.488333</td>\n",
       "      <td>0.430952</td>\n",
       "      <td>...</td>\n",
       "      <td>0.388308</td>\n",
       "      <td>0.419981</td>\n",
       "      <td>0.427278</td>\n",
       "      <td>0.271184</td>\n",
       "      <td>0.168226</td>\n",
       "      <td>0.457652</td>\n",
       "      <td>0.434452</td>\n",
       "      <td>0.456139</td>\n",
       "      <td>0.4024</td>\n",
       "      <td>0</td>\n",
       "    </tr>\n",
       "  </tbody>\n",
       "</table>\n",
       "<p>5 rows × 36 columns</p>\n",
       "</div>"
      ],
      "text/plain": [
       "   AFEC_DPTO  AFEC_EDADR  AFEC_EDUC  AFEC_GENERO  AFEC_GETNICO  AFEC_MPIO  \\\n",
       "0  0.395919   0.457947    0.380423   0.411529     0.425423      0.382809    \n",
       "1  0.367341   0.457947    0.447575   0.455866     0.425423      0.371084    \n",
       "2  0.557791   0.457947    0.488072   0.455866     0.425423      0.564257    \n",
       "3  0.409106   0.457947    0.380423   0.455866     0.425423      0.445723    \n",
       "4  0.395919   0.457947    0.380423   0.455866     0.425423      0.382809    \n",
       "\n",
       "   AFEC_PARENTESCO  AFEC_POBESPECIAL  AFEC_REGAFILIACION  AFEC_TIPOPER  \\\n",
       "0  0.498799         0.414489          0.488333            0.430952       \n",
       "1  0.459542         0.414489          0.411413            0.430952       \n",
       "2  0.532725         0.414489          0.411413            0.430952       \n",
       "3  0.532725         0.526102          0.411413            0.430952       \n",
       "4  0.498799         0.414489          0.488333            0.430952       \n",
       "\n",
       "      ...       PATOLOGIA_TIPO  PET_COD_DEPTO  PET_MPIO  PET_TIPOPER  \\\n",
       "0     ...       0.388308        0.419981       0.427278  0.271184      \n",
       "1     ...       0.388308        0.375220       0.366720  0.433903      \n",
       "2     ...       0.388308        0.549517       0.558897  0.433903      \n",
       "3     ...       0.450952        0.407647       0.447220  0.433903      \n",
       "4     ...       0.388308        0.419981       0.427278  0.271184      \n",
       "\n",
       "   PQR_CANAL  PQR_CLASE_SNS  PQR_TIPOATENCION  PQR_TIPOPETICION    TRIM  \\\n",
       "0  0.168226   0.457652       0.434452          0.456139          0.4024   \n",
       "1  0.281359   0.457652       0.434452          0.456139          0.4024   \n",
       "2  0.616036   0.457652       0.434452          0.456139          0.4024   \n",
       "3  0.616036   0.457652       0.434452          0.456139          0.4024   \n",
       "4  0.168226   0.457652       0.434452          0.456139          0.4024   \n",
       "\n",
       "   RIESGO_VIDA  \n",
       "0  0            \n",
       "1  0            \n",
       "2  0            \n",
       "3  1            \n",
       "4  0            \n",
       "\n",
       "[5 rows x 36 columns]"
      ]
     },
     "metadata": {},
     "output_type": "display_data"
    }
   ],
   "source": [
    "import numpy as np\n",
    "import pandas as pd\n",
    "from time import time\n",
    "import matplotlib.pyplot as plt\n",
    "from IPython.display import display \n",
    "from sklearn.metrics import fbeta_score\n",
    "import model_utils as model_utils\n",
    "from sklearn.externals import joblib\n",
    "import warnings\n",
    "warnings.filterwarnings('ignore')\n",
    "\n",
    "import json\n",
    "# Pretty display for notebooks\n",
    "%matplotlib inline\n",
    "pd.set_option('display.max_colwidth', -1)\n",
    "\n",
    "\n",
    "with open('best_config.json') as json_data_file:\n",
    "    config = json.load(json_data_file)[0]\n",
    "print(config)\n",
    "seed = int(config['seed'])\n",
    "test_size = config['test_size']\n",
    "\n",
    "dataset = pd.read_csv(\"datasets/encoded_dataset.csv\")\n",
    "display(dataset.head(n = 5))\n",
    "\n",
    "labels = dataset[['RIESGO_VIDA']]\n",
    "features = dataset.drop(['RIESGO_VIDA'], axis = 1)\n"
   ]
  },
  {
   "cell_type": "code",
   "execution_count": 2,
   "metadata": {},
   "outputs": [
    {
     "name": "stdout",
     "output_type": "stream",
     "text": [
      "features_final set has 281311 samples.\n",
      "Training set has 253179 samples.\n",
      "Testing set has 28132 samples.\n"
     ]
    }
   ],
   "source": [
    "# Import train_test_split\n",
    "from sklearn.model_selection import train_test_split\n",
    "\n",
    "# Split the 'features' and 'labels' data into training and testing sets\n",
    "X_train, X_test, y_train, y_test = train_test_split(features, labels, test_size = test_size, random_state = seed, stratify=labels)\n",
    "\n",
    "# Show the results of the split\n",
    "print(\"features_final set has {} samples.\".format(features.shape[0]))\n",
    "print(\"Training set has {} samples.\".format(X_train.shape[0]))\n",
    "print(\"Testing set has {} samples.\".format(X_test.shape[0]))\n"
   ]
  },
  {
   "cell_type": "code",
   "execution_count": 3,
   "metadata": {},
   "outputs": [
    {
     "name": "stdout",
     "output_type": "stream",
     "text": [
      "GaussianNB trained.\n",
      "RandomForestClassifier trained.\n",
      "AdaBoostClassifier trained.\n"
     ]
    }
   ],
   "source": [
    "from sklearn.ensemble import AdaBoostClassifier\n",
    "from sklearn.ensemble import RandomForestClassifier\n",
    "from sklearn.naive_bayes import GaussianNB\n",
    "\n",
    "# Initialize the three models\n",
    "clf_A = GaussianNB()\n",
    "clf_B = RandomForestClassifier(random_state = seed)\n",
    "clf_C = AdaBoostClassifier(random_state = seed)\n",
    "\n",
    "\n",
    "# Collect results on the learners\n",
    "dfResults = pd.DataFrame(columns=['learner', 'train_time', 'pred_time', 'f_test', 'f_train'])\n",
    "\n",
    "for k, clf in enumerate([clf_A, clf_B, clf_C]):\n",
    "    clf_name = clf.__class__.__name__  \n",
    "    clf, dfResults = model_utils.train_predict(clf, 1, X_train, y_train, X_test, y_test, dfResults)\n"
   ]
  },
  {
   "cell_type": "code",
   "execution_count": 4,
   "metadata": {
    "scrolled": true
   },
   "outputs": [
    {
     "data": {
      "text/html": [
       "<div>\n",
       "<style scoped>\n",
       "    .dataframe tbody tr th:only-of-type {\n",
       "        vertical-align: middle;\n",
       "    }\n",
       "\n",
       "    .dataframe tbody tr th {\n",
       "        vertical-align: top;\n",
       "    }\n",
       "\n",
       "    .dataframe thead th {\n",
       "        text-align: right;\n",
       "    }\n",
       "</style>\n",
       "<table border=\"1\" class=\"dataframe\">\n",
       "  <thead>\n",
       "    <tr style=\"text-align: right;\">\n",
       "      <th></th>\n",
       "      <th>learner</th>\n",
       "      <th>f_test</th>\n",
       "    </tr>\n",
       "  </thead>\n",
       "  <tbody>\n",
       "    <tr>\n",
       "      <th>1</th>\n",
       "      <td>RandomForestClassifier</td>\n",
       "      <td>0.812118</td>\n",
       "    </tr>\n",
       "    <tr>\n",
       "      <th>2</th>\n",
       "      <td>AdaBoostClassifier</td>\n",
       "      <td>0.792863</td>\n",
       "    </tr>\n",
       "    <tr>\n",
       "      <th>0</th>\n",
       "      <td>GaussianNB</td>\n",
       "      <td>0.650422</td>\n",
       "    </tr>\n",
       "  </tbody>\n",
       "</table>\n",
       "</div>"
      ],
      "text/plain": [
       "                  learner    f_test\n",
       "1  RandomForestClassifier  0.812118\n",
       "2  AdaBoostClassifier      0.792863\n",
       "0  GaussianNB              0.650422"
      ]
     },
     "metadata": {},
     "output_type": "display_data"
    }
   ],
   "source": [
    "display( dfResults.sort_values(by=['f_test'], ascending = False)[['learner', 'f_test']])\n"
   ]
  },
  {
   "cell_type": "markdown",
   "metadata": {},
   "source": [
    "# Tuning Models"
   ]
  },
  {
   "cell_type": "markdown",
   "metadata": {},
   "source": [
    "## Tuning RandomForestClassifier"
   ]
  },
  {
   "cell_type": "code",
   "execution_count": 8,
   "metadata": {
    "scrolled": false
   },
   "outputs": [
    {
     "name": "stdout",
     "output_type": "stream",
     "text": [
      "Unoptimized model\n",
      "------\n",
      "F-score on testing data: 0.7960\n",
      "\n",
      "Optimized Model\n",
      "------\n",
      "Final F-score on the testing data: 0.8491\n"
     ]
    },
    {
     "data": {
      "text/plain": [
       "['rf_classifier.joblib']"
      ]
     },
     "execution_count": 8,
     "metadata": {},
     "output_type": "execute_result"
    },
    {
     "data": {
      "image/png": "[encoded data removed]",
      "text/plain": [
       "<Figure size 432x288 with 2 Axes>"
      ]
     },
     "metadata": {
      "needs_background": "light"
     },
     "output_type": "display_data"
    }
   ],
   "source": [
    "from sklearn.metrics import make_scorer\n",
    "\n",
    "rf_classifier = RandomForestClassifier(random_state = seed)\n",
    "\n",
    "rfParameters = {    \n",
    "  'criterion':['gini', 'entropy'],\n",
    "  'max_depth':[None, 5, 10, 15, 30],\n",
    "  'max_features':['auto', 'sqrt', 'log2'],\n",
    "  'class_weight': [None, 'balanced', 'balanced_subsample'], \n",
    "}\n",
    "\n",
    "rf_classifier, default_rf_score, tuned_rf_score, cnf_rf_matrix = model_utils.tune_classifier(rf_classifier, rfParameters, X_train, X_test, y_train, y_test)\n",
    "\n",
    "model_utils.plot_confusion_matrix(cnf_rf_matrix, classes=['Life not as risk', 'Life at risk'], normalize = True)\n",
    "print(\"Unoptimized model\\n------\")\n",
    "print(\"F-score on testing data: {:.4f}\".format(default_rf_score))\n",
    "print(\"\\nOptimized Model\\n------\")\n",
    "print(\"Final F-score on the testing data: {:.4f}\".format(tuned_rf_score))\n",
    "joblib.dump(rf_classifier, 'rf_classifier.joblib') \n"
   ]
  },
  {
   "cell_type": "markdown",
   "metadata": {},
   "source": [
    "## Tuning AdaBoostClassifier"
   ]
  },
  {
   "cell_type": "code",
   "execution_count": 9,
   "metadata": {
    "scrolled": false
   },
   "outputs": [
    {
     "name": "stdout",
     "output_type": "stream",
     "text": [
      "Unoptimized model\n",
      "------\n",
      "F-score on testing data: 0.7833\n",
      "\n",
      "Optimized Model\n",
      "------\n",
      "Final F-score on the testing data: 0.7833\n"
     ]
    },
    {
     "data": {
      "text/plain": [
       "['ada_classifier.joblib']"
      ]
     },
     "execution_count": 9,
     "metadata": {},
     "output_type": "execute_result"
    },
    {
     "data": {
      "image/png": "[encoded data removed]",
      "text/plain": [
       "<Figure size 432x288 with 2 Axes>"
      ]
     },
     "metadata": {
      "needs_background": "light"
     },
     "output_type": "display_data"
    }
   ],
   "source": [
    "from sklearn.ensemble import AdaBoostClassifier\n",
    "ada_classifier = AdaBoostClassifier(random_state = seed)\n",
    "\n",
    "adaParameters = {\n",
    "  'learning_rate':[0.1, 0.5, 1],\n",
    "  'algorithm' :['SAMME', 'SAMME.R']\n",
    "}\n",
    "\n",
    "ada_classifier, default_ada_score, tuned_ada_score, cnf_ada_matrix = model_utils.tune_classifier(ada_classifier, adaParameters,  X_train, X_test, y_train, y_test)\n",
    "\n",
    "model_utils.plot_confusion_matrix(cnf_ada_matrix, classes=['Life not as risk', 'Life at risk'], normalize = True)\n",
    "print(\"Unoptimized model\\n------\")\n",
    "print(\"F-score on testing data: {:.4f}\".format(default_ada_score))\n",
    "print(\"\\nOptimized Model\\n------\")\n",
    "print(\"Final F-score on the testing data: {:.4f}\".format(tuned_ada_score))\n",
    "\n",
    "joblib.dump(ada_classifier, 'ada_classifier.joblib') \n"
   ]
  },
  {
   "cell_type": "markdown",
   "metadata": {},
   "source": [
    "## Tuning GaussianClassifier\n"
   ]
  },
  {
   "cell_type": "code",
   "execution_count": 10,
   "metadata": {},
   "outputs": [
    {
     "name": "stdout",
     "output_type": "stream",
     "text": [
      "Unoptimized model\n",
      "------\n",
      "F-score on testing data: 0.8073\n",
      "\n",
      "Optimized Model\n",
      "------\n",
      "Final F-score on the testing data: 0.8073\n"
     ]
    },
    {
     "data": {
      "text/plain": [
       "['gauss_classifier.joblib']"
      ]
     },
     "execution_count": 10,
     "metadata": {},
     "output_type": "execute_result"
    },
    {
     "data": {
      "image/png": "[encoded data removed]",
      "text/plain": [
       "<Figure size 432x288 with 2 Axes>"
      ]
     },
     "metadata": {
      "needs_background": "light"
     },
     "output_type": "display_data"
    }
   ],
   "source": [
    "gauss_classifier = GaussianNB()\n",
    "\n",
    "gaussParameters = {\n",
    "  'priors':[None],\n",
    "  'var_smoothing' :[1e-09]\n",
    "}\n",
    "\n",
    "gauss_classifier, default_gauss_score, tuned_gauss_score, cnf_gauss_matrix = model_utils.tune_classifier(gauss_classifier, gaussParameters,  X_train, X_test, y_train, y_test)\n",
    "\n",
    "model_utils.plot_confusion_matrix(cnf_gauss_matrix, classes=['Life not as risk', 'Life at risk'], normalize = True)\n",
    "print(\"Unoptimized model\\n------\")\n",
    "print(\"F-score on testing data: {:.4f}\".format(default_gauss_score))\n",
    "print(\"\\nOptimized Model\\n------\")\n",
    "print(\"Final F-score on the testing data: {:.4f}\".format(tuned_gauss_score))\n",
    "\n",
    "joblib.dump(gauss_classifier, 'gauss_classifier.joblib') \n"
   ]
  },
  {
   "cell_type": "markdown",
   "metadata": {},
   "source": [
    "# Stacking\n",
    "## Stacking with to best classifiers"
   ]
  },
  {
   "cell_type": "code",
   "execution_count": 11,
   "metadata": {},
   "outputs": [
    {
     "name": "stdout",
     "output_type": "stream",
     "text": [
      "F-score on validation data: 0.7987\n"
     ]
    },
    {
     "data": {
      "text/plain": [
       "StackingClassifier(average_probas=False,\n",
       "          classifiers=[RandomForestClassifier(bootstrap=True, class_weight='balanced',\n",
       "            criterion='entropy', max_depth=10, max_features=None,\n",
       "            max_leaf_nodes=None, min_impurity_decrease=0.0,\n",
       "            min_impurity_split=None, min_samples_leaf=1,\n",
       "            min_samples_split=2, min_wei...rithm='SAMME.R', base_estimator=None, learning_rate=1,\n",
       "          n_estimators=50, random_state=134)],\n",
       "          meta_classifier=RandomForestClassifier(bootstrap=True, class_weight=None, criterion='gini',\n",
       "            max_depth=None, max_features='auto', max_leaf_nodes=None,\n",
       "            min_impurity_decrease=0.0, min_impurity_split=None,\n",
       "            min_samples_leaf=1, min_samples_split=2,\n",
       "            min_weight_fraction_leaf=0.0, n_estimators='warn', n_jobs=None,\n",
       "            oob_score=False, random_state=134, verbose=0, warm_start=False),\n",
       "          store_train_meta_features=False, use_clones=True,\n",
       "          use_features_in_secondary=True, use_probas=False, verbose=0)"
      ]
     },
     "execution_count": 11,
     "metadata": {},
     "output_type": "execute_result"
    },
    {
     "data": {
      "image/png": "[encoded data removed]",
      "text/plain": [
       "<Figure size 432x288 with 2 Axes>"
      ]
     },
     "metadata": {
      "needs_background": "light"
     },
     "output_type": "display_data"
    }
   ],
   "source": [
    "sclf_two, sclf_score = model_utils.get_stack_two(rf_classifier, ada_classifier, X_train, X_test, y_train, y_test, seed)\n",
    "\n",
    "joblib.dump(sclf_two, 'sclf_two.joblib') \n",
    "\n",
    "model_utils.model_validation('sclf_two.joblib', X_test, y_test)"
   ]
  },
  {
   "cell_type": "markdown",
   "metadata": {},
   "source": [
    "## Stacking with all classifiers"
   ]
  },
  {
   "cell_type": "code",
   "execution_count": 12,
   "metadata": {},
   "outputs": [
    {
     "name": "stdout",
     "output_type": "stream",
     "text": [
      "F-score on validation data: 0.7985\n"
     ]
    },
    {
     "data": {
      "text/plain": [
       "StackingClassifier(average_probas=False,\n",
       "          classifiers=[RandomForestClassifier(bootstrap=True, class_weight='balanced',\n",
       "            criterion='entropy', max_depth=10, max_features=None,\n",
       "            max_leaf_nodes=None, min_impurity_decrease=0.0,\n",
       "            min_impurity_split=None, min_samples_leaf=1,\n",
       "            min_samples_split=2, min_wei..._rate=1,\n",
       "          n_estimators=50, random_state=134), GaussianNB(priors=None, var_smoothing=1e-09)],\n",
       "          meta_classifier=RandomForestClassifier(bootstrap=True, class_weight=None, criterion='gini',\n",
       "            max_depth=None, max_features='auto', max_leaf_nodes=None,\n",
       "            min_impurity_decrease=0.0, min_impurity_split=None,\n",
       "            min_samples_leaf=1, min_samples_split=2,\n",
       "            min_weight_fraction_leaf=0.0, n_estimators='warn', n_jobs=None,\n",
       "            oob_score=False, random_state=134, verbose=0, warm_start=False),\n",
       "          store_train_meta_features=False, use_clones=True,\n",
       "          use_features_in_secondary=True, use_probas=False, verbose=0)"
      ]
     },
     "execution_count": 12,
     "metadata": {},
     "output_type": "execute_result"
    },
    {
     "data": {
      "image/png": "[encoded data removed]",
      "text/plain": [
       "<Figure size 432x288 with 2 Axes>"
      ]
     },
     "metadata": {
      "needs_background": "light"
     },
     "output_type": "display_data"
    }
   ],
   "source": [
    "sclf_all, sclf_all_score = model_utils.get_stack_all(rf_classifier, ada_classifier, gauss_classifier, X_train, X_test, y_train, y_test, seed)\n",
    "\n",
    "joblib.dump(sclf_all, 'sclf_all.joblib') \n",
    "\n",
    "model_utils.model_validation('sclf_all.joblib', X_test, y_test)"
   ]
  }
 ],
 "metadata": {
  "kernelspec": {
   "display_name": "Python 3",
   "language": "python",
   "name": "python3"
  },
  "language_info": {
   "codemirror_mode": {
    "name": "ipython",
    "version": 3
   },
   "file_extension": ".py",
   "mimetype": "text/x-python",
   "name": "python",
   "nbconvert_exporter": "python",
   "pygments_lexer": "ipython3",
   "version": "3.7.1"
  }
 },
 "nbformat": 4,
 "nbformat_minor": 2
}
