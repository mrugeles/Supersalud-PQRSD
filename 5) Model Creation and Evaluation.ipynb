{
 "cells": [
  {
   "cell_type": "code",
   "execution_count": 4,
   "metadata": {
    "scrolled": true
   },
   "outputs": [
    {
     "name": "stdout",
     "output_type": "stream",
     "text": [
      "{'seed': 134.0, 'test_size': 0.1, 'impute': 0.0}\n"
     ]
    },
    {
     "data": {
      "text/html": [
       "<div>\n",
       "<style scoped>\n",
       "    .dataframe tbody tr th:only-of-type {\n",
       "        vertical-align: middle;\n",
       "    }\n",
       "\n",
       "    .dataframe tbody tr th {\n",
       "        vertical-align: top;\n",
       "    }\n",
       "\n",
       "    .dataframe thead th {\n",
       "        text-align: right;\n",
       "    }\n",
       "</style>\n",
       "<table border=\"1\" class=\"dataframe\">\n",
       "  <thead>\n",
       "    <tr style=\"text-align: right;\">\n",
       "      <th></th>\n",
       "      <th>AFEC_DPTO</th>\n",
       "      <th>AFEC_EDADR</th>\n",
       "      <th>AFEC_EDUC</th>\n",
       "      <th>AFEC_GENERO</th>\n",
       "      <th>AFEC_GETNICO</th>\n",
       "      <th>AFEC_MPIO</th>\n",
       "      <th>AFEC_PARENTESCO</th>\n",
       "      <th>AFEC_POBESPECIAL</th>\n",
       "      <th>AFEC_REGAFILIACION</th>\n",
       "      <th>AFEC_TIPOPER</th>\n",
       "      <th>...</th>\n",
       "      <th>PATOLOGIA_TIPO</th>\n",
       "      <th>PET_COD_DEPTO</th>\n",
       "      <th>PET_MPIO</th>\n",
       "      <th>PET_TIPOPER</th>\n",
       "      <th>PQR_CANAL</th>\n",
       "      <th>PQR_CLASE_SNS</th>\n",
       "      <th>PQR_TIPOATENCION</th>\n",
       "      <th>PQR_TIPOPETICION</th>\n",
       "      <th>TRIM</th>\n",
       "      <th>RIESGO_VIDA</th>\n",
       "    </tr>\n",
       "  </thead>\n",
       "  <tbody>\n",
       "    <tr>\n",
       "      <th>0</th>\n",
       "      <td>0.413632</td>\n",
       "      <td>0.457947</td>\n",
       "      <td>0.404291</td>\n",
       "      <td>0.422006</td>\n",
       "      <td>0.43569</td>\n",
       "      <td>0.411426</td>\n",
       "      <td>0.498799</td>\n",
       "      <td>0.425020</td>\n",
       "      <td>0.488333</td>\n",
       "      <td>0.436371</td>\n",
       "      <td>...</td>\n",
       "      <td>0.388499</td>\n",
       "      <td>0.416195</td>\n",
       "      <td>0.420014</td>\n",
       "      <td>0.271184</td>\n",
       "      <td>0.168226</td>\n",
       "      <td>0.457652</td>\n",
       "      <td>0.266635</td>\n",
       "      <td>0.456139</td>\n",
       "      <td>0.4024</td>\n",
       "      <td>0</td>\n",
       "    </tr>\n",
       "    <tr>\n",
       "      <th>1</th>\n",
       "      <td>0.367341</td>\n",
       "      <td>0.457947</td>\n",
       "      <td>0.447575</td>\n",
       "      <td>0.455866</td>\n",
       "      <td>0.43569</td>\n",
       "      <td>0.371084</td>\n",
       "      <td>0.459542</td>\n",
       "      <td>0.425020</td>\n",
       "      <td>0.420733</td>\n",
       "      <td>0.436371</td>\n",
       "      <td>...</td>\n",
       "      <td>0.388499</td>\n",
       "      <td>0.375220</td>\n",
       "      <td>0.366720</td>\n",
       "      <td>0.433927</td>\n",
       "      <td>0.281359</td>\n",
       "      <td>0.457652</td>\n",
       "      <td>0.459141</td>\n",
       "      <td>0.456139</td>\n",
       "      <td>0.4024</td>\n",
       "      <td>0</td>\n",
       "    </tr>\n",
       "    <tr>\n",
       "      <th>2</th>\n",
       "      <td>0.557791</td>\n",
       "      <td>0.457947</td>\n",
       "      <td>0.488072</td>\n",
       "      <td>0.455866</td>\n",
       "      <td>0.43569</td>\n",
       "      <td>0.564257</td>\n",
       "      <td>0.532725</td>\n",
       "      <td>0.425020</td>\n",
       "      <td>0.420733</td>\n",
       "      <td>0.436371</td>\n",
       "      <td>...</td>\n",
       "      <td>0.388499</td>\n",
       "      <td>0.549517</td>\n",
       "      <td>0.558897</td>\n",
       "      <td>0.433927</td>\n",
       "      <td>0.616036</td>\n",
       "      <td>0.457652</td>\n",
       "      <td>0.459141</td>\n",
       "      <td>0.456139</td>\n",
       "      <td>0.4024</td>\n",
       "      <td>0</td>\n",
       "    </tr>\n",
       "    <tr>\n",
       "      <th>3</th>\n",
       "      <td>0.409106</td>\n",
       "      <td>0.457947</td>\n",
       "      <td>0.404291</td>\n",
       "      <td>0.455866</td>\n",
       "      <td>0.43569</td>\n",
       "      <td>0.445723</td>\n",
       "      <td>0.532725</td>\n",
       "      <td>0.526102</td>\n",
       "      <td>0.420733</td>\n",
       "      <td>0.436371</td>\n",
       "      <td>...</td>\n",
       "      <td>0.450952</td>\n",
       "      <td>0.407647</td>\n",
       "      <td>0.447220</td>\n",
       "      <td>0.433927</td>\n",
       "      <td>0.616036</td>\n",
       "      <td>0.457652</td>\n",
       "      <td>0.459141</td>\n",
       "      <td>0.456139</td>\n",
       "      <td>0.4024</td>\n",
       "      <td>1</td>\n",
       "    </tr>\n",
       "    <tr>\n",
       "      <th>4</th>\n",
       "      <td>0.413632</td>\n",
       "      <td>0.457947</td>\n",
       "      <td>0.404291</td>\n",
       "      <td>0.455866</td>\n",
       "      <td>0.43569</td>\n",
       "      <td>0.411426</td>\n",
       "      <td>0.498799</td>\n",
       "      <td>0.425020</td>\n",
       "      <td>0.488333</td>\n",
       "      <td>0.436371</td>\n",
       "      <td>...</td>\n",
       "      <td>0.388499</td>\n",
       "      <td>0.416195</td>\n",
       "      <td>0.420014</td>\n",
       "      <td>0.271184</td>\n",
       "      <td>0.168226</td>\n",
       "      <td>0.457652</td>\n",
       "      <td>0.266635</td>\n",
       "      <td>0.456139</td>\n",
       "      <td>0.4024</td>\n",
       "      <td>0</td>\n",
       "    </tr>\n",
       "  </tbody>\n",
       "</table>\n",
       "<p>5 rows × 36 columns</p>\n",
       "</div>"
      ],
      "text/plain": [
       "   AFEC_DPTO  AFEC_EDADR  AFEC_EDUC  AFEC_GENERO  AFEC_GETNICO  AFEC_MPIO  \\\n",
       "0  0.413632   0.457947    0.404291   0.422006     0.43569       0.411426    \n",
       "1  0.367341   0.457947    0.447575   0.455866     0.43569       0.371084    \n",
       "2  0.557791   0.457947    0.488072   0.455866     0.43569       0.564257    \n",
       "3  0.409106   0.457947    0.404291   0.455866     0.43569       0.445723    \n",
       "4  0.413632   0.457947    0.404291   0.455866     0.43569       0.411426    \n",
       "\n",
       "   AFEC_PARENTESCO  AFEC_POBESPECIAL  AFEC_REGAFILIACION  AFEC_TIPOPER  ...  \\\n",
       "0  0.498799         0.425020          0.488333            0.436371      ...   \n",
       "1  0.459542         0.425020          0.420733            0.436371      ...   \n",
       "2  0.532725         0.425020          0.420733            0.436371      ...   \n",
       "3  0.532725         0.526102          0.420733            0.436371      ...   \n",
       "4  0.498799         0.425020          0.488333            0.436371      ...   \n",
       "\n",
       "   PATOLOGIA_TIPO  PET_COD_DEPTO  PET_MPIO  PET_TIPOPER  PQR_CANAL  \\\n",
       "0  0.388499        0.416195       0.420014  0.271184     0.168226    \n",
       "1  0.388499        0.375220       0.366720  0.433927     0.281359    \n",
       "2  0.388499        0.549517       0.558897  0.433927     0.616036    \n",
       "3  0.450952        0.407647       0.447220  0.433927     0.616036    \n",
       "4  0.388499        0.416195       0.420014  0.271184     0.168226    \n",
       "\n",
       "   PQR_CLASE_SNS  PQR_TIPOATENCION  PQR_TIPOPETICION    TRIM  RIESGO_VIDA  \n",
       "0  0.457652       0.266635          0.456139          0.4024  0            \n",
       "1  0.457652       0.459141          0.456139          0.4024  0            \n",
       "2  0.457652       0.459141          0.456139          0.4024  0            \n",
       "3  0.457652       0.459141          0.456139          0.4024  1            \n",
       "4  0.457652       0.266635          0.456139          0.4024  0            \n",
       "\n",
       "[5 rows x 36 columns]"
      ]
     },
     "metadata": {},
     "output_type": "display_data"
    }
   ],
   "source": [
    "import numpy as np\n",
    "import pandas as pd\n",
    "from time import time\n",
    "import matplotlib.pyplot as plt\n",
    "from IPython.display import display \n",
    "from sklearn.metrics import fbeta_score\n",
    "import model_utils as model_utils\n",
    "from sklearn.externals import joblib\n",
    "import json\n",
    "import warnings\n",
    "warnings.filterwarnings('ignore')\n",
    "\n",
    "%matplotlib inline\n",
    "pd.set_option('display.max_colwidth', -1)\n",
    "\n",
    "\n",
    "with open('best_config.json') as json_data_file:\n",
    "    config = json.load(json_data_file)[0]\n",
    "print(config)\n",
    "seed = int(config['seed'])\n",
    "test_size = config['test_size']\n",
    "\n",
    "dataset = pd.read_csv(\"datasets/experiments/target_encoder.csv\")\n",
    "display(dataset.head(n = 5))\n",
    "\n",
    "labels = dataset[['RIESGO_VIDA']]\n",
    "features = dataset.drop(['RIESGO_VIDA'], axis = 1)\n"
   ]
  },
  {
   "cell_type": "markdown",
   "metadata": {},
   "source": [
    "# Experiment results"
   ]
  },
  {
   "cell_type": "code",
   "execution_count": 5,
   "metadata": {},
   "outputs": [
    {
     "data": {
      "text/html": [
       "<div>\n",
       "<style scoped>\n",
       "    .dataframe tbody tr th:only-of-type {\n",
       "        vertical-align: middle;\n",
       "    }\n",
       "\n",
       "    .dataframe tbody tr th {\n",
       "        vertical-align: top;\n",
       "    }\n",
       "\n",
       "    .dataframe thead th {\n",
       "        text-align: right;\n",
       "    }\n",
       "</style>\n",
       "<table border=\"1\" class=\"dataframe\">\n",
       "  <thead>\n",
       "    <tr style=\"text-align: right;\">\n",
       "      <th></th>\n",
       "      <th>learner</th>\n",
       "      <th>train_time</th>\n",
       "      <th>pred_time</th>\n",
       "      <th>f_test</th>\n",
       "      <th>f_train</th>\n",
       "    </tr>\n",
       "  </thead>\n",
       "  <tbody>\n",
       "    <tr>\n",
       "      <th>0</th>\n",
       "      <td>MLPClassifier</td>\n",
       "      <td>1296.234826</td>\n",
       "      <td>5.915000</td>\n",
       "      <td>0.841620</td>\n",
       "      <td>0.840525</td>\n",
       "    </tr>\n",
       "    <tr>\n",
       "      <th>1</th>\n",
       "      <td>XGBClassifier</td>\n",
       "      <td>42.259174</td>\n",
       "      <td>1.091999</td>\n",
       "      <td>0.820126</td>\n",
       "      <td>0.819328</td>\n",
       "    </tr>\n",
       "    <tr>\n",
       "      <th>2</th>\n",
       "      <td>GradientBoostingClassifier</td>\n",
       "      <td>65.376004</td>\n",
       "      <td>0.677994</td>\n",
       "      <td>0.817586</td>\n",
       "      <td>0.816751</td>\n",
       "    </tr>\n",
       "    <tr>\n",
       "      <th>3</th>\n",
       "      <td>RandomForestClassifier</td>\n",
       "      <td>6.758998</td>\n",
       "      <td>1.282005</td>\n",
       "      <td>0.800686</td>\n",
       "      <td>0.984582</td>\n",
       "    </tr>\n",
       "    <tr>\n",
       "      <th>4</th>\n",
       "      <td>ExtraTreesClassifier</td>\n",
       "      <td>6.477000</td>\n",
       "      <td>1.674999</td>\n",
       "      <td>0.797156</td>\n",
       "      <td>0.999081</td>\n",
       "    </tr>\n",
       "    <tr>\n",
       "      <th>5</th>\n",
       "      <td>BaggingClassifier</td>\n",
       "      <td>37.512001</td>\n",
       "      <td>2.160003</td>\n",
       "      <td>0.796962</td>\n",
       "      <td>0.983660</td>\n",
       "    </tr>\n",
       "    <tr>\n",
       "      <th>6</th>\n",
       "      <td>SGDClassifier</td>\n",
       "      <td>0.838997</td>\n",
       "      <td>0.026001</td>\n",
       "      <td>0.795926</td>\n",
       "      <td>0.795143</td>\n",
       "    </tr>\n",
       "    <tr>\n",
       "      <th>7</th>\n",
       "      <td>LogisticRegression</td>\n",
       "      <td>5.637997</td>\n",
       "      <td>0.045001</td>\n",
       "      <td>0.786974</td>\n",
       "      <td>0.786907</td>\n",
       "    </tr>\n",
       "    <tr>\n",
       "      <th>8</th>\n",
       "      <td>AdaBoostClassifier</td>\n",
       "      <td>24.072999</td>\n",
       "      <td>5.467999</td>\n",
       "      <td>0.786204</td>\n",
       "      <td>0.787834</td>\n",
       "    </tr>\n",
       "    <tr>\n",
       "      <th>9</th>\n",
       "      <td>RidgeClassifierCV</td>\n",
       "      <td>1.016999</td>\n",
       "      <td>0.025997</td>\n",
       "      <td>0.777369</td>\n",
       "      <td>0.777793</td>\n",
       "    </tr>\n",
       "    <tr>\n",
       "      <th>10</th>\n",
       "      <td>RidgeClassifier</td>\n",
       "      <td>0.209997</td>\n",
       "      <td>0.023003</td>\n",
       "      <td>0.777202</td>\n",
       "      <td>0.777769</td>\n",
       "    </tr>\n",
       "    <tr>\n",
       "      <th>11</th>\n",
       "      <td>DecisionTreeClassifier</td>\n",
       "      <td>4.678002</td>\n",
       "      <td>0.166998</td>\n",
       "      <td>0.759760</td>\n",
       "      <td>0.999081</td>\n",
       "    </tr>\n",
       "    <tr>\n",
       "      <th>12</th>\n",
       "      <td>ExtraTreeClassifier</td>\n",
       "      <td>0.774998</td>\n",
       "      <td>0.325001</td>\n",
       "      <td>0.735501</td>\n",
       "      <td>0.999081</td>\n",
       "    </tr>\n",
       "    <tr>\n",
       "      <th>13</th>\n",
       "      <td>PassiveAggressiveClassifier</td>\n",
       "      <td>0.739995</td>\n",
       "      <td>0.022999</td>\n",
       "      <td>0.455224</td>\n",
       "      <td>0.457692</td>\n",
       "    </tr>\n",
       "  </tbody>\n",
       "</table>\n",
       "</div>"
      ],
      "text/plain": [
       "                        learner   train_time  pred_time    f_test   f_train\n",
       "0   MLPClassifier                1296.234826  5.915000   0.841620  0.840525\n",
       "1   XGBClassifier                42.259174    1.091999   0.820126  0.819328\n",
       "2   GradientBoostingClassifier   65.376004    0.677994   0.817586  0.816751\n",
       "3   RandomForestClassifier       6.758998     1.282005   0.800686  0.984582\n",
       "4   ExtraTreesClassifier         6.477000     1.674999   0.797156  0.999081\n",
       "5   BaggingClassifier            37.512001    2.160003   0.796962  0.983660\n",
       "6   SGDClassifier                0.838997     0.026001   0.795926  0.795143\n",
       "7   LogisticRegression           5.637997     0.045001   0.786974  0.786907\n",
       "8   AdaBoostClassifier           24.072999    5.467999   0.786204  0.787834\n",
       "9   RidgeClassifierCV            1.016999     0.025997   0.777369  0.777793\n",
       "10  RidgeClassifier              0.209997     0.023003   0.777202  0.777769\n",
       "11  DecisionTreeClassifier       4.678002     0.166998   0.759760  0.999081\n",
       "12  ExtraTreeClassifier          0.774998     0.325001   0.735501  0.999081\n",
       "13  PassiveAggressiveClassifier  0.739995     0.022999   0.455224  0.457692"
      ]
     },
     "metadata": {},
     "output_type": "display_data"
    }
   ],
   "source": [
    "import pandas as pd\n",
    "import experiment_datasets as datax\n",
    "from IPython.display import display, Markdown, Latex\n",
    "\n",
    "dataset = pd.read_csv(f'datasets/experiments/target_encoder_results.csv')\n",
    "display(dataset)"
   ]
  },
  {
   "cell_type": "code",
   "execution_count": 6,
   "metadata": {},
   "outputs": [
    {
     "name": "stdout",
     "output_type": "stream",
     "text": [
      "features_final set has 281311 samples.\n",
      "Training set has 253179 samples.\n",
      "Testing set has 28132 samples.\n"
     ]
    }
   ],
   "source": [
    "# Import train_test_split\n",
    "from sklearn.model_selection import train_test_split\n",
    "\n",
    "# Split the 'features' and 'labels' data into training and testing sets\n",
    "X_train, X_test, y_train, y_test = train_test_split(features, labels, test_size = test_size, random_state = seed, stratify=labels)\n",
    "\n",
    "# Show the results of the split\n",
    "print(\"features_final set has {} samples.\".format(features.shape[0]))\n",
    "print(\"Training set has {} samples.\".format(X_train.shape[0]))\n",
    "print(\"Testing set has {} samples.\".format(X_test.shape[0]))\n"
   ]
  },
  {
   "cell_type": "markdown",
   "metadata": {},
   "source": [
    "# Tuning Models"
   ]
  },
  {
   "cell_type": "markdown",
   "metadata": {},
   "source": [
    "## Tuning SGDClassifier"
   ]
  },
  {
   "cell_type": "code",
   "execution_count": null,
   "metadata": {
    "scrolled": false
   },
   "outputs": [
    {
     "name": "stdout",
     "output_type": "stream",
     "text": [
      "MLPClassifier(activation='relu', alpha=0.0001, batch_size='auto', beta_1=0.9,\n",
      "              beta_2=0.999, early_stopping=False, epsilon=1e-08,\n",
      "              hidden_layer_sizes=(100,), learning_rate='constant',\n",
      "              learning_rate_init=0.001, max_iter=200, momentum=0.9,\n",
      "              n_iter_no_change=10, nesterovs_momentum=True, power_t=0.5,\n",
      "              random_state=134, shuffle=True, solver='adam', tol=0.0001,\n",
      "              validation_fraction=0.1, verbose=False, warm_start=False)\n"
     ]
    }
   ],
   "source": [
    "from sklearn.neural_network import MLPClassifier\n",
    "\n",
    "ml_classifier = MLPClassifier(random_state = seed)\n",
    "print(ml_classifier)\n",
    "\n",
    "ml_parameters = {\n",
    "    'hidden_layer_sizes': [100, 150, 200]\n",
    "}\n",
    "\n",
    "ml_classifier, default_ml_score, tunned_ml_score, ml_matrix = model_utils.tune_classifier(ml_classifier, ml_parameters, X_train, X_test, y_train, y_test)\n",
    "\n",
    "model_utils.plot_confusion_matrix(ml_matrix, classes=['Life not as risk', 'Life at risk'], normalize = True)\n",
    "print(\"Unoptimized model\\n------\")\n",
    "print(\"F-score: {:.4f}\".format(default_ml_score))\n",
    "print(\"\\nOptimized Model\\n------\")\n",
    "print(\"F-score: {:.4f}\".format(tunned_ml_score))\n",
    "joblib.dump(ml_classifier, 'ml_classifier.joblib')\n",
    "print(ml_classifier)"
   ]
  },
  {
   "cell_type": "markdown",
   "metadata": {},
   "source": [
    "## Tuning PassiveAggressiveClassifier"
   ]
  },
  {
   "cell_type": "code",
   "execution_count": 50,
   "metadata": {
    "scrolled": false
   },
   "outputs": [
    {
     "name": "stdout",
     "output_type": "stream",
     "text": [
      "PassiveAggressiveClassifier(C=1.0, average=False, class_weight=None,\n",
      "              early_stopping=False, fit_intercept=True, loss='hinge',\n",
      "              max_iter=None, n_iter=None, n_iter_no_change=5, n_jobs=None,\n",
      "              random_state=134, shuffle=True, tol=None,\n",
      "              validation_fraction=0.1, verbose=0, warm_start=False)\n",
      "Unoptimized model\n",
      "------\n",
      "F-score: 0.8236\n",
      "\n",
      "Optimized Model\n",
      "------\n",
      "Final F-score: 0.8271\n",
      "PassiveAggressiveClassifier(C=1.0, average=False, class_weight='balanced',\n",
      "              early_stopping=False, fit_intercept=True, loss='hinge',\n",
      "              max_iter=None, n_iter=None, n_iter_no_change=5, n_jobs=None,\n",
      "              random_state=134, shuffle=True, tol=None,\n",
      "              validation_fraction=0.1, verbose=0, warm_start=False)\n"
     ]
    },
    {
     "data": {
      "image/png": "[encoded data removed]",
      "text/plain": [
       "<Figure size 432x288 with 2 Axes>"
      ]
     },
     "metadata": {
      "needs_background": "light"
     },
     "output_type": "display_data"
    }
   ],
   "source": [
    "from sklearn.linear_model import PassiveAggressiveClassifier\n",
    "pa_classifier = PassiveAggressiveClassifier(random_state = seed)\n",
    "\n",
    "pa_parameters = {\n",
    "  'class_weight' :['balanced']\n",
    "}\n",
    "print(pa_classifier)\n",
    "pa_classifier, default_pa_score, tuned_pa_score, cnf_pa_matrix = model_utils.tune_classifier(pa_classifier, pa_parameters, X_train, X_test, y_train, y_test)\n",
    "\n",
    "model_utils.plot_confusion_matrix(cnf_pa_matrix, classes=['Life not as risk', 'Life at risk'], normalize = True)\n",
    "print(\"Unoptimized model\\n------\")\n",
    "print(\"F-score: {:.4f}\".format(default_pa_score))\n",
    "print(\"\\nOptimized Model\\n------\")\n",
    "print(\"Final F-score: {:.4f}\".format(tuned_pa_score))\n",
    "\n",
    "joblib.dump(pa_classifier, 'pa_classifier.joblib') \n",
    "print(pa_classifier)\n"
   ]
  },
  {
   "cell_type": "markdown",
   "metadata": {},
   "source": [
    "# Stacking\n",
    "## Stacking with to best classifiers"
   ]
  },
  {
   "cell_type": "code",
   "execution_count": 51,
   "metadata": {
    "scrolled": true
   },
   "outputs": [
    {
     "name": "stdout",
     "output_type": "stream",
     "text": [
      "F-score on validation data: 0.7868\n"
     ]
    },
    {
     "data": {
      "text/plain": [
       "StackingClassifier(average_probas=False,\n",
       "          classifiers=[SGDClassifier(alpha=1e-05, average=False, class_weight='balanced',\n",
       "       early_stopping=True, epsilon=0.1, eta0=0.01, fit_intercept=True,\n",
       "       l1_ratio=0.15, learning_rate='constant', loss='hinge',\n",
       "       max_iter=None, n_iter=None, n_iter_no_change=5, n_jobs=None,\n",
       "       penalty='no...te=134, shuffle=True, tol=None,\n",
       "              validation_fraction=0.1, verbose=0, warm_start=False)],\n",
       "          meta_classifier=RandomForestClassifier(bootstrap=True, class_weight=None, criterion='gini',\n",
       "            max_depth=None, max_features='auto', max_leaf_nodes=None,\n",
       "            min_impurity_decrease=0.0, min_impurity_split=None,\n",
       "            min_samples_leaf=1, min_samples_split=2,\n",
       "            min_weight_fraction_leaf=0.0, n_estimators='warn', n_jobs=None,\n",
       "            oob_score=False, random_state=134, verbose=0, warm_start=False),\n",
       "          store_train_meta_features=False, use_clones=True,\n",
       "          use_features_in_secondary=True, use_probas=False, verbose=0)"
      ]
     },
     "execution_count": 51,
     "metadata": {},
     "output_type": "execute_result"
    },
    {
     "data": {
      "image/png": "[encoded data removed]",
      "text/plain": [
       "<Figure size 432x288 with 2 Axes>"
      ]
     },
     "metadata": {
      "needs_background": "light"
     },
     "output_type": "display_data"
    }
   ],
   "source": [
    "sclf_two, sclf_score = model_utils.get_stack_two(sdg_classifier, pa_classifier, X_train, X_test, y_train, y_test, seed)\n",
    "\n",
    "joblib.dump(sclf_two, 'sclf_two.joblib') \n",
    "\n",
    "model_utils.model_validation('sclf_two.joblib', X_test, y_test)"
   ]
  },
  {
   "cell_type": "markdown",
   "metadata": {},
   "source": [
    "## Tuning MLPClassifier"
   ]
  },
  {
   "cell_type": "code",
   "execution_count": 94,
   "metadata": {
    "scrolled": false
   },
   "outputs": [
    {
     "name": "stdout",
     "output_type": "stream",
     "text": [
      "MLPClassifier(activation='relu', alpha=0.0001, batch_size='auto', beta_1=0.9,\n",
      "       beta_2=0.999, early_stopping=False, epsilon=1e-08,\n",
      "       hidden_layer_sizes=(100,), learning_rate='constant',\n",
      "       learning_rate_init=0.001, max_iter=200, momentum=0.9,\n",
      "       n_iter_no_change=10, nesterovs_momentum=True, power_t=0.5,\n",
      "       random_state=134, shuffle=True, solver='adam', tol=0.0001,\n",
      "       validation_fraction=0.1, verbose=False, warm_start=False)\n",
      "Unoptimized model\n",
      "------\n",
      "Time: 3210.6174252033234\n",
      "------\n",
      "F-score: 0.8319\n",
      "\n",
      "Optimized Model\n",
      "------\n",
      "Final F-score: 0.8097\n",
      "MLPClassifier(activation='relu', alpha=0.0001, batch_size='auto', beta_1=0.9,\n",
      "       beta_2=0.999, early_stopping=True, epsilon=1e-08,\n",
      "       hidden_layer_sizes=100, learning_rate='constant',\n",
      "       learning_rate_init=0.001, max_iter=200, momentum=0.8,\n",
      "       n_iter_no_change=10, nesterovs_momentum=True, power_t=0.5,\n",
      "       random_state=134, shuffle=True, solver='adam', tol=0.0001,\n",
      "       validation_fraction=0.1, verbose=False, warm_start=False)\n"
     ]
    },
    {
     "data": {
      "image/png": "[encoded data removed]",
      "text/plain": [
       "<Figure size 432x288 with 2 Axes>"
      ]
     },
     "metadata": {
      "needs_background": "light"
     },
     "output_type": "display_data"
    }
   ],
   "source": [
    "from sklearn.neural_network import MLPClassifier\n",
    "from time import time\n",
    "\n",
    "ml_classifier = MLPClassifier(random_state = seed)\n",
    "\n",
    "ml_parameters = {\n",
    "    'hidden_layer_sizes': [50, 100, 150, 200, 250],\n",
    "    'solver':['lbfgs', 'sgd', 'adam'],\n",
    "    'early_stopping':[True],\n",
    "    'momentum':[0.8, 0.9, 0.95],\n",
    "    'learning_rate_init': [0.001, 0.00001]\n",
    "}\n",
    "print(ml_classifier)\n",
    "start = time()\n",
    "\n",
    "ml_classifier, default_ml_score, tuned_ml_score, cnf_ml_matrix = model_utils.tune_classifier(ml_classifier, ml_parameters, X_train, X_test, y_train, y_test)\n",
    "\n",
    "model_utils.plot_confusion_matrix(cnf_pa_matrix, classes=['Life not as risk', 'Life at risk'], normalize = True)\n",
    "end = time()\n",
    "pred_time = end - start\n",
    "print(\"Unoptimized model\\n------\")\n",
    "print(f\"Time: {pred_time}\\n------\")\n",
    "print(\"F-score: {:.4f}\".format(default_ml_score))\n",
    "print(\"\\nOptimized Model\\n------\")\n",
    "print(\"Final F-score: {:.4f}\".format(tuned_ml_score))\n",
    "\n",
    "joblib.dump(ml_classifier, 'ml_classifier.joblib') \n",
    "print(ml_classifier)\n"
   ]
  },
  {
   "cell_type": "code",
   "execution_count": null,
   "metadata": {},
   "outputs": [],
   "source": []
  },
  {
   "cell_type": "code",
   "execution_count": null,
   "metadata": {},
   "outputs": [],
   "source": []
  }
 ],
 "metadata": {
  "kernelspec": {
   "display_name": "Python 3",
   "language": "python",
   "name": "python3"
  },
  "language_info": {
   "codemirror_mode": {
    "name": "ipython",
    "version": 3
   },
   "file_extension": ".py",
   "mimetype": "text/x-python",
   "name": "python",
   "nbconvert_exporter": "python",
   "pygments_lexer": "ipython3",
   "version": "3.7.3"
  }
 },
 "nbformat": 4,
 "nbformat_minor": 2
}
