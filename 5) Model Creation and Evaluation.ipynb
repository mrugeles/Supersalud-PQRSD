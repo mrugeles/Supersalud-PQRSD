{
 "cells": [
  {
   "cell_type": "code",
   "execution_count": 1,
   "metadata": {
    "scrolled": true
   },
   "outputs": [
    {
     "name": "stderr",
     "output_type": "stream",
     "text": [
      "C:\\Users\\mrugeles\\AppData\\Local\\Continuum\\anaconda3\\lib\\site-packages\\sklearn\\externals\\joblib\\__init__.py:15: DeprecationWarning: sklearn.externals.joblib is deprecated in 0.21 and will be removed in 0.23. Please import this functionality directly from joblib, which can be installed with: pip install joblib. If this warning is raised when loading pickled models, you may need to re-serialize those models with scikit-learn 0.21+.\n",
      "  warnings.warn(msg, category=DeprecationWarning)\n"
     ]
    },
    {
     "name": "stdout",
     "output_type": "stream",
     "text": [
      "{'seed': 134.0, 'test_size': 0.1, 'impute': 0.0}\n"
     ]
    },
    {
     "data": {
      "text/html": [
       "<div>\n",
       "<style scoped>\n",
       "    .dataframe tbody tr th:only-of-type {\n",
       "        vertical-align: middle;\n",
       "    }\n",
       "\n",
       "    .dataframe tbody tr th {\n",
       "        vertical-align: top;\n",
       "    }\n",
       "\n",
       "    .dataframe thead th {\n",
       "        text-align: right;\n",
       "    }\n",
       "</style>\n",
       "<table border=\"1\" class=\"dataframe\">\n",
       "  <thead>\n",
       "    <tr style=\"text-align: right;\">\n",
       "      <th></th>\n",
       "      <th>AFEC_DPTO</th>\n",
       "      <th>AFEC_EDADR</th>\n",
       "      <th>AFEC_EDUC</th>\n",
       "      <th>AFEC_GENERO</th>\n",
       "      <th>AFEC_GETNICO</th>\n",
       "      <th>AFEC_MPIO</th>\n",
       "      <th>AFEC_PARENTESCO</th>\n",
       "      <th>AFEC_POBESPECIAL</th>\n",
       "      <th>AFEC_REGAFILIACION</th>\n",
       "      <th>AFEC_TIPOPER</th>\n",
       "      <th>...</th>\n",
       "      <th>PET_COD_DEPTO</th>\n",
       "      <th>PET_MPIO</th>\n",
       "      <th>PET_TIPOPER</th>\n",
       "      <th>PQR_CANAL</th>\n",
       "      <th>PQR_CLASE_SNS</th>\n",
       "      <th>PQR_TIPOATENCION</th>\n",
       "      <th>PQR_TIPOPETICION</th>\n",
       "      <th>TRIM</th>\n",
       "      <th>SERVICIO_NEGADO</th>\n",
       "      <th>RIESGO_VIDA</th>\n",
       "    </tr>\n",
       "  </thead>\n",
       "  <tbody>\n",
       "    <tr>\n",
       "      <th>0</th>\n",
       "      <td>0.413632</td>\n",
       "      <td>0.457947</td>\n",
       "      <td>0.404291</td>\n",
       "      <td>0.422006</td>\n",
       "      <td>0.43569</td>\n",
       "      <td>0.411426</td>\n",
       "      <td>0.498799</td>\n",
       "      <td>0.425020</td>\n",
       "      <td>0.488333</td>\n",
       "      <td>0.436371</td>\n",
       "      <td>...</td>\n",
       "      <td>0.416195</td>\n",
       "      <td>0.420014</td>\n",
       "      <td>0.271184</td>\n",
       "      <td>0.168226</td>\n",
       "      <td>0.457652</td>\n",
       "      <td>0.266635</td>\n",
       "      <td>0.456139</td>\n",
       "      <td>0.4024</td>\n",
       "      <td>0.460713</td>\n",
       "      <td>0</td>\n",
       "    </tr>\n",
       "    <tr>\n",
       "      <th>1</th>\n",
       "      <td>0.367341</td>\n",
       "      <td>0.457947</td>\n",
       "      <td>0.447575</td>\n",
       "      <td>0.455866</td>\n",
       "      <td>0.43569</td>\n",
       "      <td>0.371084</td>\n",
       "      <td>0.459542</td>\n",
       "      <td>0.425020</td>\n",
       "      <td>0.420733</td>\n",
       "      <td>0.436371</td>\n",
       "      <td>...</td>\n",
       "      <td>0.375220</td>\n",
       "      <td>0.366720</td>\n",
       "      <td>0.433927</td>\n",
       "      <td>0.281359</td>\n",
       "      <td>0.457652</td>\n",
       "      <td>0.459141</td>\n",
       "      <td>0.456139</td>\n",
       "      <td>0.4024</td>\n",
       "      <td>0.460713</td>\n",
       "      <td>0</td>\n",
       "    </tr>\n",
       "    <tr>\n",
       "      <th>2</th>\n",
       "      <td>0.557791</td>\n",
       "      <td>0.457947</td>\n",
       "      <td>0.488072</td>\n",
       "      <td>0.455866</td>\n",
       "      <td>0.43569</td>\n",
       "      <td>0.564257</td>\n",
       "      <td>0.532725</td>\n",
       "      <td>0.425020</td>\n",
       "      <td>0.420733</td>\n",
       "      <td>0.436371</td>\n",
       "      <td>...</td>\n",
       "      <td>0.549517</td>\n",
       "      <td>0.558897</td>\n",
       "      <td>0.433927</td>\n",
       "      <td>0.616036</td>\n",
       "      <td>0.457652</td>\n",
       "      <td>0.459141</td>\n",
       "      <td>0.456139</td>\n",
       "      <td>0.4024</td>\n",
       "      <td>0.460713</td>\n",
       "      <td>0</td>\n",
       "    </tr>\n",
       "    <tr>\n",
       "      <th>3</th>\n",
       "      <td>0.409106</td>\n",
       "      <td>0.457947</td>\n",
       "      <td>0.404291</td>\n",
       "      <td>0.455866</td>\n",
       "      <td>0.43569</td>\n",
       "      <td>0.445723</td>\n",
       "      <td>0.532725</td>\n",
       "      <td>0.526102</td>\n",
       "      <td>0.420733</td>\n",
       "      <td>0.436371</td>\n",
       "      <td>...</td>\n",
       "      <td>0.407647</td>\n",
       "      <td>0.447220</td>\n",
       "      <td>0.433927</td>\n",
       "      <td>0.616036</td>\n",
       "      <td>0.457652</td>\n",
       "      <td>0.459141</td>\n",
       "      <td>0.456139</td>\n",
       "      <td>0.4024</td>\n",
       "      <td>0.460713</td>\n",
       "      <td>1</td>\n",
       "    </tr>\n",
       "    <tr>\n",
       "      <th>4</th>\n",
       "      <td>0.413632</td>\n",
       "      <td>0.457947</td>\n",
       "      <td>0.404291</td>\n",
       "      <td>0.455866</td>\n",
       "      <td>0.43569</td>\n",
       "      <td>0.411426</td>\n",
       "      <td>0.498799</td>\n",
       "      <td>0.425020</td>\n",
       "      <td>0.488333</td>\n",
       "      <td>0.436371</td>\n",
       "      <td>...</td>\n",
       "      <td>0.416195</td>\n",
       "      <td>0.420014</td>\n",
       "      <td>0.271184</td>\n",
       "      <td>0.168226</td>\n",
       "      <td>0.457652</td>\n",
       "      <td>0.266635</td>\n",
       "      <td>0.456139</td>\n",
       "      <td>0.4024</td>\n",
       "      <td>0.460713</td>\n",
       "      <td>0</td>\n",
       "    </tr>\n",
       "  </tbody>\n",
       "</table>\n",
       "<p>5 rows × 37 columns</p>\n",
       "</div>"
      ],
      "text/plain": [
       "   AFEC_DPTO  AFEC_EDADR  AFEC_EDUC  AFEC_GENERO  AFEC_GETNICO  AFEC_MPIO  \\\n",
       "0  0.413632   0.457947    0.404291   0.422006     0.43569       0.411426    \n",
       "1  0.367341   0.457947    0.447575   0.455866     0.43569       0.371084    \n",
       "2  0.557791   0.457947    0.488072   0.455866     0.43569       0.564257    \n",
       "3  0.409106   0.457947    0.404291   0.455866     0.43569       0.445723    \n",
       "4  0.413632   0.457947    0.404291   0.455866     0.43569       0.411426    \n",
       "\n",
       "   AFEC_PARENTESCO  AFEC_POBESPECIAL  AFEC_REGAFILIACION  AFEC_TIPOPER  ...  \\\n",
       "0  0.498799         0.425020          0.488333            0.436371      ...   \n",
       "1  0.459542         0.425020          0.420733            0.436371      ...   \n",
       "2  0.532725         0.425020          0.420733            0.436371      ...   \n",
       "3  0.532725         0.526102          0.420733            0.436371      ...   \n",
       "4  0.498799         0.425020          0.488333            0.436371      ...   \n",
       "\n",
       "   PET_COD_DEPTO  PET_MPIO  PET_TIPOPER  PQR_CANAL  PQR_CLASE_SNS  \\\n",
       "0  0.416195       0.420014  0.271184     0.168226   0.457652        \n",
       "1  0.375220       0.366720  0.433927     0.281359   0.457652        \n",
       "2  0.549517       0.558897  0.433927     0.616036   0.457652        \n",
       "3  0.407647       0.447220  0.433927     0.616036   0.457652        \n",
       "4  0.416195       0.420014  0.271184     0.168226   0.457652        \n",
       "\n",
       "   PQR_TIPOATENCION  PQR_TIPOPETICION    TRIM  SERVICIO_NEGADO  RIESGO_VIDA  \n",
       "0  0.266635          0.456139          0.4024  0.460713         0            \n",
       "1  0.459141          0.456139          0.4024  0.460713         0            \n",
       "2  0.459141          0.456139          0.4024  0.460713         0            \n",
       "3  0.459141          0.456139          0.4024  0.460713         1            \n",
       "4  0.266635          0.456139          0.4024  0.460713         0            \n",
       "\n",
       "[5 rows x 37 columns]"
      ]
     },
     "metadata": {},
     "output_type": "display_data"
    }
   ],
   "source": [
    "import numpy as np\n",
    "import pandas as pd\n",
    "from time import time\n",
    "import matplotlib.pyplot as plt\n",
    "from IPython.display import display \n",
    "from sklearn.metrics import fbeta_score\n",
    "import model_utils as model_utils\n",
    "from sklearn.externals import joblib\n",
    "\n",
    "import json\n",
    "# Pretty display for notebooks\n",
    "%matplotlib inline\n",
    "pd.set_option('display.max_colwidth', -1)\n",
    "\n",
    "\n",
    "with open('best_config.json') as json_data_file:\n",
    "    config = json.load(json_data_file)[0]\n",
    "print(config)\n",
    "seed = int(config['seed'])\n",
    "test_size = config['test_size']\n",
    "\n",
    "dataset = pd.read_csv(\"datasets/encoded_dataset.csv\")\n",
    "display(dataset.head(n = 5))\n",
    "\n",
    "labels = dataset[['RIESGO_VIDA']]\n",
    "features = dataset.drop(['RIESGO_VIDA'], axis = 1)\n"
   ]
  },
  {
   "cell_type": "code",
   "execution_count": 2,
   "metadata": {},
   "outputs": [
    {
     "ename": "SyntaxError",
     "evalue": "invalid syntax (<ipython-input-2-37554305b789>, line 8)",
     "output_type": "error",
     "traceback": [
      "\u001b[1;36m  File \u001b[1;32m\"<ipython-input-2-37554305b789>\"\u001b[1;36m, line \u001b[1;32m8\u001b[0m\n\u001b[1;33m    print \"features_final set has {} samples.\".format(features.shape[0])\u001b[0m\n\u001b[1;37m                                             ^\u001b[0m\n\u001b[1;31mSyntaxError\u001b[0m\u001b[1;31m:\u001b[0m invalid syntax\n"
     ]
    }
   ],
   "source": [
    "# Import train_test_split\n",
    "from sklearn.model_selection import train_test_split\n",
    "\n",
    "# Split the 'features' and 'labels' data into training and testing sets\n",
    "X_train, X_test, y_train, y_test = train_test_split(features, labels, test_size = test_size, random_state = seed, stratify=labels)\n",
    "\n",
    "# Show the results of the split\n",
    "print \"features_final set has {} samples.\".format(features.shape[0])\n",
    "print \"Training set has {} samples.\".format(X_train.shape[0])\n",
    "print \"Testing set has {} samples.\".format(X_test.shape[0])\n"
   ]
  },
  {
   "cell_type": "code",
   "execution_count": null,
   "metadata": {},
   "outputs": [],
   "source": [
    "from sklearn.ensemble import AdaBoostClassifier\n",
    "from sklearn.ensemble import RandomForestClassifier\n",
    "from sklearn.naive_bayes import GaussianNB\n",
    "\n",
    "# Initialize the three models\n",
    "clf_A = GaussianNB()\n",
    "clf_B = RandomForestClassifier(random_state = seed)\n",
    "clf_C = AdaBoostClassifier(random_state = seed)\n",
    "\n",
    "\n",
    "# Collect results on the learners\n",
    "dfResults = pd.DataFrame(columns=['learner', 'train_time', 'pred_time', 'f_test', 'f_train'])\n",
    "\n",
    "for k, clf in enumerate([clf_A, clf_B, clf_C]):\n",
    "    clf_name = clf.__class__.__name__  \n",
    "    clf, dfResults = model_utils.train_predict(clf, 1, X_train, y_train, X_test, y_test, dfResults)\n"
   ]
  },
  {
   "cell_type": "code",
   "execution_count": null,
   "metadata": {
    "scrolled": true
   },
   "outputs": [],
   "source": [
    "display( dfResults.sort_values(by=['f_test'], ascending = False)[['learner', 'f_test']])\n"
   ]
  },
  {
   "cell_type": "markdown",
   "metadata": {},
   "source": [
    "# Tuning Models"
   ]
  },
  {
   "cell_type": "markdown",
   "metadata": {},
   "source": [
    "## Tuning RandomForestClassifier"
   ]
  },
  {
   "cell_type": "code",
   "execution_count": null,
   "metadata": {
    "scrolled": false
   },
   "outputs": [],
   "source": [
    "from sklearn.metrics import make_scorer\n",
    "\n",
    "rf_classifier = RandomForestClassifier(random_state = seed)\n",
    "\n",
    "rfParameters = {    \n",
    "  'criterion':['gini', 'entropy'],\n",
    "  'max_depth':[5, 10, 15, 30],\n",
    "  'max_features':['auto', 'sqrt', 'log2', None],\n",
    "  'class_weight': ['balanced', 'balanced_subsample'], \n",
    "}\n",
    "\n",
    "rf_classifier, default_rf_score, tuned_rf_score, cnf_rf_matrix = model_utils.tune_classifier(rf_classifier, rfParameters, X_train, X_test, y_train, y_test)\n",
    "\n",
    "model_utils.plot_confusion_matrix(cnf_rf_matrix, classes=['Life not as risk', 'Life at risk'], normalize = True)\n",
    "print(\"Unoptimized model\\n------\")\n",
    "print(\"F-score on testing data: {:.4f}\".format(default_rf_score))\n",
    "print(\"\\nOptimized Model\\n------\")\n",
    "print(\"Final F-score on the testing data: {:.4f}\".format(tuned_rf_score))\n",
    "joblib.dump(rf_classifier, 'rf_classifier.joblib'))\n"
   ]
  },
  {
   "cell_type": "markdown",
   "metadata": {},
   "source": [
    "## Tuning AdaBoostClassifier"
   ]
  },
  {
   "cell_type": "code",
   "execution_count": null,
   "metadata": {
    "scrolled": false
   },
   "outputs": [],
   "source": [
    "from sklearn.ensemble import AdaBoostClassifier\n",
    "ada_classifier = AdaBoostClassifier(random_state = seed)\n",
    "\n",
    "adaParameters = {\n",
    "  'learning_rate':[0.1, 0.5, 1],\n",
    "  'algorithm' :['SAMME', 'SAMME.R']\n",
    "}\n",
    "\n",
    "ada_classifier, default_ada_score, tuned_ada_score, cnf_ada_matrix = model_utils.tune_classifier(ada_classifier, adaParameters,  X_train, X_test, y_train, y_test)\n",
    "\n",
    "model_utils.plot_confusion_matrix(cnf_ada_matrix, classes=['Life not as risk', 'Life at risk'], normalize = True)\n",
    "print(\"Unoptimized model\\n------\")\n",
    "print(\"F-score on testing data: {:.4f}\".format(default_ada_score))\n",
    "print(\"\\nOptimized Model\\n------\")\n",
    "print(\"Final F-score on the testing data: {:.4f}\".format(tuned_ada_score))\n",
    "\n",
    "joblib.dump(ada_classifier, 'ada_classifier.joblib') \n"
   ]
  },
  {
   "cell_type": "markdown",
   "metadata": {},
   "source": [
    "## Tuning GaussianClassifier\n"
   ]
  },
  {
   "cell_type": "code",
   "execution_count": null,
   "metadata": {},
   "outputs": [],
   "source": [
    "gauss_classifier = GaussianNB()\n",
    "\n",
    "gaussParameters = {\n",
    "  'priors':[None],\n",
    "  'var_smoothing' :[1e-09]\n",
    "}\n",
    "\n",
    "gauss_classifier, default_gauss_score, tuned_gauss_score, cnf_gauss_matrix = model_utils.tune_classifier(gauss_classifier, gaussParameters,  X_train, X_test, y_train, y_test)\n",
    "\n",
    "model_utils.plot_confusion_matrix(cnf_gauss_matrix, classes=['Life not as risk', 'Life at risk'], normalize = True)\n",
    "print(\"Unoptimized model\\n------\"))\n",
    "print(\"F-score on testing data: {:.4f}\".format(default_gauss_score))\n",
    "print(\"\\nOptimized Model\\n------\")\n",
    "print(\"Final F-score on the testing data: {:.4f}\".format(tuned_gauss_score))\n",
    "\n",
    "joblib.dump(gauss_classifier, 'gauss_classifier.joblib') \n"
   ]
  },
  {
   "cell_type": "markdown",
   "metadata": {},
   "source": [
    "# Stacking\n",
    "## Stacking with to best classifiers"
   ]
  },
  {
   "cell_type": "code",
   "execution_count": null,
   "metadata": {},
   "outputs": [],
   "source": [
    "sclf_two, sclf_score = model_utils.get_stack_two(rf_classifier, ada_classifier, X_train, X_test, y_train, y_test, seed)\n",
    "\n",
    "joblib.dump(sclf_two, 'sclf_two.joblib') \n",
    "\n",
    "model_utils.model_validation('sclf_two.joblib', X_test, y_test)"
   ]
  },
  {
   "cell_type": "markdown",
   "metadata": {},
   "source": [
    "## Stacking with all classifiers"
   ]
  },
  {
   "cell_type": "code",
   "execution_count": null,
   "metadata": {},
   "outputs": [],
   "source": [
    "sclf_all, sclf_all_score = model_utils.get_stack_all(rf_classifier, ada_classifier, gauss_classifier, X_train, X_test, y_train, y_test, seed)\n",
    "\n",
    "joblib.dump(sclf_all, 'sclf_all.joblib') \n",
    "\n",
    "model_utils.model_validation('sclf_all.joblib', X_test, y_test)"
   ]
  }
 ],
 "metadata": {
  "kernelspec": {
   "display_name": "Python 3",
   "language": "python",
   "name": "python3"
  },
  "language_info": {
   "codemirror_mode": {
    "name": "ipython",
    "version": 3
   },
   "file_extension": ".py",
   "mimetype": "text/x-python",
   "name": "python",
   "nbconvert_exporter": "python",
   "pygments_lexer": "ipython3",
   "version": "3.7.3"
  }
 },
 "nbformat": 4,
 "nbformat_minor": 2
}
