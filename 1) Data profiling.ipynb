{
 "cells": [
  {
   "cell_type": "code",
   "execution_count": null,
   "metadata": {},
   "outputs": [],
   "source": [
    "!rm -rf datasets\n",
    "!rm Base_De_Datos_PQRD*\n",
    "!mkdir datasets \n",
    "!wget -q -O Base_De_Datos_PQRD_2015.csv https://www.datos.gov.co/api/views/36n3-fsjh/rows.csv?accessType=DOWNLOAD\n",
    "!wget -q -O Base_De_Datos_PQRD_2016.csv https://www.datos.gov.co/api/views/b3xk-8uh2/rows.csv?accessType=DOWNLOAD\n",
    "!wget -q -O Base_De_Datos_PQRD_2017.csv https://www.datos.gov.co/api/views/gg2r-kx6x/rows.csv?accessType=DOWNLOAD\n",
    "!mv Base_De_Datos_PQRD* datasets\n"
   ]
  },
  {
   "cell_type": "code",
   "execution_count": 1,
   "metadata": {
    "scrolled": true
   },
   "outputs": [],
   "source": [
    "import data_utils\n",
    "import pandas as pd\n",
    "dataset = data_utils.get_pqrd_dataset()"
   ]
  },
  {
   "cell_type": "markdown",
   "metadata": {},
   "source": [
    "## A first look into the data"
   ]
  },
  {
   "cell_type": "code",
   "execution_count": null,
   "metadata": {},
   "outputs": [
    {
     "name": "stderr",
     "output_type": "stream",
     "text": [
      "ERROR:root:Internal Python error in the inspect module.\n",
      "Below is the traceback from this internal error.\n",
      "\n"
     ]
    }
   ],
   "source": [
    "import pandas_profiling\n",
    "dataset.profile_report()"
   ]
  },
  {
   "cell_type": "markdown",
   "metadata": {},
   "source": [
    "## Is there any part of the population more susceptible to have access to the health care system?"
   ]
  },
  {
   "cell_type": "code",
   "execution_count": null,
   "metadata": {
    "scrolled": true
   },
   "outputs": [],
   "source": [
    "afec_edadr = dataset['AFEC_EDADR'].value_counts().nlargest(n=10, keep='first')\n",
    "afec_edadr.plot(kind='bar', title='Patient\\'s age range');"
   ]
  },
  {
   "cell_type": "code",
   "execution_count": null,
   "metadata": {
    "scrolled": false
   },
   "outputs": [],
   "source": [
    "afec_genero = dataset['AFEC_GENERO'].value_counts().nlargest(n=10, keep='first')\n",
    "afec_genero.plot(kind='bar', title='Patient\\'s gender');"
   ]
  },
  {
   "cell_type": "markdown",
   "metadata": {},
   "source": [
    "## Top 10 of reasons to raise a pqrd.\n"
   ]
  },
  {
   "cell_type": "code",
   "execution_count": null,
   "metadata": {},
   "outputs": [],
   "source": [
    "cie_10 = dataset['CIE_10'].value_counts().nlargest(n=10, keep='first')\n",
    "cie_10.plot(kind='bar', title='International Classification of Diseases, 10th Revision (ICD-10)');"
   ]
  },
  {
   "cell_type": "code",
   "execution_count": null,
   "metadata": {},
   "outputs": [],
   "source": [
    "cie_10 = dataset.loc[dataset['CIE_10'] != '0']['CIE_10'].value_counts().nlargest(n=10, keep='first')\n",
    "cie_10.plot(kind='bar', title='International Classification of Diseases, 10th Revision (ICD-10)');"
   ]
  },
  {
   "cell_type": "code",
   "execution_count": null,
   "metadata": {
    "scrolled": true
   },
   "outputs": [],
   "source": [
    "macromotivo = dataset['MACROMOTIVO'].value_counts().nlargest(n=10, keep='first')\n",
    "macromotivo.plot(kind='bar', title='Macro reason to raise a pqrd');"
   ]
  },
  {
   "cell_type": "code",
   "execution_count": null,
   "metadata": {},
   "outputs": [],
   "source": [
    "motivo_general = dataset['MOTIVO_GENERAL'].value_counts().nlargest(n=10, keep='first')\n",
    "motivo_general.plot(kind='bar', title='General reason to raise a pqrd');"
   ]
  },
  {
   "cell_type": "markdown",
   "metadata": {},
   "source": [
    "## Use of internet for raising pqrds over the time."
   ]
  },
  {
   "cell_type": "code",
   "execution_count": null,
   "metadata": {
    "scrolled": true
   },
   "outputs": [],
   "source": [
    "canales_df = dataset.loc[(dataset['PQR_CANAL'] == \"chat\") | (dataset['PQR_CANAL'] == \"correo\") | (dataset['PQR_CANAL'] == \"web\")]\n",
    "\n",
    "canales_df['DATE'] = canales_df['year'].astype(str) + '/' + canales_df['MES'].astype(str)\n",
    "\n",
    "canales_counts = canales_df['DATE'].value_counts().sort_index()\n",
    "canales_counts =  pd.DataFrame({'DATE':canales_counts.index, 'COUNTS':canales_counts.values})\n",
    "\n",
    "canales_counts.plot(kind='line',x='DATE',y='COUNTS', xticks=canales_counts.index, figsize=(12,6), rot=90)\n",
    "\n",
    "\n"
   ]
  }
 ],
 "metadata": {
  "kernelspec": {
   "display_name": "Python 3",
   "language": "python",
   "name": "python3"
  },
  "language_info": {
   "codemirror_mode": {
    "name": "ipython",
    "version": 3
   },
   "file_extension": ".py",
   "mimetype": "text/x-python",
   "name": "python",
   "nbconvert_exporter": "python",
   "pygments_lexer": "ipython3",
   "version": "3.7.1"
  }
 },
 "nbformat": 4,
 "nbformat_minor": 2
}
